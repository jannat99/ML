{
  "cells": [
    {
      "cell_type": "markdown",
      "metadata": {
        "id": "view-in-github",
        "colab_type": "text"
      },
      "source": [
        "<a href=\"https://colab.research.google.com/github/jannat99/ML/blob/main/Assignment_1_170204051.ipynb\" target=\"_parent\"><img src=\"https://colab.research.google.com/assets/colab-badge.svg\" alt=\"Open In Colab\"/></a>"
      ]
    },
    {
      "cell_type": "code",
      "execution_count": null,
      "metadata": {
        "colab": {
          "base_uri": "https://localhost:8080/"
        },
        "id": "h42yKWQd64jR",
        "outputId": "bead1260-1892-40a6-a4a4-c71732ce05ca"
      },
      "outputs": [
        {
          "name": "stdout",
          "output_type": "stream",
          "text": [
            "Mounted at /content/drive\n"
          ]
        }
      ],
      "source": [
        "from google.colab import drive\n",
        "drive.mount('/content/drive')"
      ]
    },
    {
      "cell_type": "code",
      "execution_count": null,
      "metadata": {
        "colab": {
          "base_uri": "https://localhost:8080/"
        },
        "id": "9TsyEQH-MHwG",
        "outputId": "8a0f7608-9ff0-4b5a-e527-05eee4bad92c"
      },
      "outputs": [
        {
          "name": "stdout",
          "output_type": "stream",
          "text": [
            "Collecting torchmetrics\n",
            "  Downloading torchmetrics-0.7.1-py3-none-any.whl (397 kB)\n",
            "\u001b[?25l\r\u001b[K     |▉                               | 10 kB 18.7 MB/s eta 0:00:01\r\u001b[K     |█▋                              | 20 kB 14.2 MB/s eta 0:00:01\r\u001b[K     |██▌                             | 30 kB 17.1 MB/s eta 0:00:01\r\u001b[K     |███▎                            | 40 kB 16.1 MB/s eta 0:00:01\r\u001b[K     |████▏                           | 51 kB 17.2 MB/s eta 0:00:01\r\u001b[K     |█████                           | 61 kB 18.6 MB/s eta 0:00:01\r\u001b[K     |█████▊                          | 71 kB 12.2 MB/s eta 0:00:01\r\u001b[K     |██████▋                         | 81 kB 12.7 MB/s eta 0:00:01\r\u001b[K     |███████▍                        | 92 kB 12.4 MB/s eta 0:00:01\r\u001b[K     |████████▎                       | 102 kB 13.4 MB/s eta 0:00:01\r\u001b[K     |█████████                       | 112 kB 13.4 MB/s eta 0:00:01\r\u001b[K     |██████████                      | 122 kB 13.4 MB/s eta 0:00:01\r\u001b[K     |██████████▊                     | 133 kB 13.4 MB/s eta 0:00:01\r\u001b[K     |███████████▌                    | 143 kB 13.4 MB/s eta 0:00:01\r\u001b[K     |████████████▍                   | 153 kB 13.4 MB/s eta 0:00:01\r\u001b[K     |█████████████▏                  | 163 kB 13.4 MB/s eta 0:00:01\r\u001b[K     |██████████████                  | 174 kB 13.4 MB/s eta 0:00:01\r\u001b[K     |██████████████▉                 | 184 kB 13.4 MB/s eta 0:00:01\r\u001b[K     |███████████████▊                | 194 kB 13.4 MB/s eta 0:00:01\r\u001b[K     |████████████████▌               | 204 kB 13.4 MB/s eta 0:00:01\r\u001b[K     |█████████████████▎              | 215 kB 13.4 MB/s eta 0:00:01\r\u001b[K     |██████████████████▏             | 225 kB 13.4 MB/s eta 0:00:01\r\u001b[K     |███████████████████             | 235 kB 13.4 MB/s eta 0:00:01\r\u001b[K     |███████████████████▉            | 245 kB 13.4 MB/s eta 0:00:01\r\u001b[K     |████████████████████▋           | 256 kB 13.4 MB/s eta 0:00:01\r\u001b[K     |█████████████████████▌          | 266 kB 13.4 MB/s eta 0:00:01\r\u001b[K     |██████████████████████▎         | 276 kB 13.4 MB/s eta 0:00:01\r\u001b[K     |███████████████████████         | 286 kB 13.4 MB/s eta 0:00:01\r\u001b[K     |████████████████████████        | 296 kB 13.4 MB/s eta 0:00:01\r\u001b[K     |████████████████████████▊       | 307 kB 13.4 MB/s eta 0:00:01\r\u001b[K     |█████████████████████████▋      | 317 kB 13.4 MB/s eta 0:00:01\r\u001b[K     |██████████████████████████▍     | 327 kB 13.4 MB/s eta 0:00:01\r\u001b[K     |███████████████████████████▎    | 337 kB 13.4 MB/s eta 0:00:01\r\u001b[K     |████████████████████████████    | 348 kB 13.4 MB/s eta 0:00:01\r\u001b[K     |████████████████████████████▉   | 358 kB 13.4 MB/s eta 0:00:01\r\u001b[K     |█████████████████████████████▊  | 368 kB 13.4 MB/s eta 0:00:01\r\u001b[K     |██████████████████████████████▌ | 378 kB 13.4 MB/s eta 0:00:01\r\u001b[K     |███████████████████████████████▍| 389 kB 13.4 MB/s eta 0:00:01\r\u001b[K     |████████████████████████████████| 397 kB 13.4 MB/s \n",
            "\u001b[?25hRequirement already satisfied: numpy>=1.17.2 in /usr/local/lib/python3.7/dist-packages (from torchmetrics) (1.19.5)\n",
            "Requirement already satisfied: torch>=1.3.1 in /usr/local/lib/python3.7/dist-packages (from torchmetrics) (1.10.0+cu111)\n",
            "Requirement already satisfied: packaging in /usr/local/lib/python3.7/dist-packages (from torchmetrics) (21.3)\n",
            "Collecting pyDeprecate==0.3.*\n",
            "  Downloading pyDeprecate-0.3.2-py3-none-any.whl (10 kB)\n",
            "Requirement already satisfied: typing-extensions in /usr/local/lib/python3.7/dist-packages (from torch>=1.3.1->torchmetrics) (3.10.0.2)\n",
            "Requirement already satisfied: pyparsing!=3.0.5,>=2.0.2 in /usr/local/lib/python3.7/dist-packages (from packaging->torchmetrics) (3.0.7)\n",
            "Installing collected packages: pyDeprecate, torchmetrics\n",
            "Successfully installed pyDeprecate-0.3.2 torchmetrics-0.7.1\n"
          ]
        }
      ],
      "source": [
        "!pip install torchmetrics\n",
        "import os\n",
        "import torch\n",
        "import torchvision\n",
        "from torchvision.datasets.utils import download_url\n",
        "from torch.utils.data import random_split\n",
        "from torchvision.datasets import ImageFolder\n",
        "from torchvision import transforms\n",
        "from torch.utils.data.dataloader import DataLoader\n",
        "import torchmetrics\n",
        "import math"
      ]
    },
    {
      "cell_type": "code",
      "execution_count": null,
      "metadata": {
        "id": "aAUZAdlXQY1Y"
      },
      "outputs": [],
      "source": [
        "data_dir = '/content/drive/My Drive/My 4-2/imagery/'"
      ]
    },
    {
      "cell_type": "code",
      "execution_count": null,
      "metadata": {
        "id": "DpJyKueb62kb"
      },
      "outputs": [],
      "source": [
        "train_transform = transforms.Compose([\n",
        "                  transforms.Grayscale(num_output_channels=1),\n",
        "                  transforms.Resize((32, 32)), \n",
        "                  transforms.ToTensor(),])"
      ]
    },
    {
      "cell_type": "code",
      "execution_count": null,
      "metadata": {
        "colab": {
          "base_uri": "https://localhost:8080/"
        },
        "id": "12Q2UvJwQIJD",
        "outputId": "2e713d73-d343-407a-cc9f-bbee3f73ba97"
      },
      "outputs": [
        {
          "name": "stdout",
          "output_type": "stream",
          "text": [
            "Dataset ImageFolder\n",
            "    Number of datapoints: 4482\n",
            "    Root location: /content/drive/My Drive/My 4-2/imagery/\n",
            "    StandardTransform\n",
            "Transform: Compose(\n",
            "               Grayscale(num_output_channels=1)\n",
            "               Resize(size=(32, 32), interpolation=bilinear, max_size=None, antialias=None)\n",
            "               ToTensor()\n",
            "           )\n"
          ]
        }
      ],
      "source": [
        "dataset = ImageFolder(data_dir, transform=train_transform)\n",
        "print(dataset)"
      ]
    },
    {
      "cell_type": "code",
      "execution_count": null,
      "metadata": {
        "colab": {
          "base_uri": "https://localhost:8080/"
        },
        "id": "rpm1MZCOQ7zl",
        "outputId": "6f956d1f-0d2d-49af-8ff3-b6f90ed5c9f1"
      },
      "outputs": [
        {
          "data": {
            "text/plain": [
              "(2914, 672, 896)"
            ]
          },
          "execution_count": 7,
          "metadata": {},
          "output_type": "execute_result"
        }
      ],
      "source": [
        "random_seed = 51\n",
        "torch.manual_seed(random_seed);\n",
        "test_size = math.floor(0.2 * len(dataset))\n",
        "val_size = math.floor(0.15 * len(dataset))\n",
        "train_size = len(dataset) - val_size - test_size\n",
        "train_dataset, val_dataset, test_dataset = random_split(dataset, [train_size, val_size, test_size])\n",
        "len(train_dataset), len(val_dataset), len(test_dataset)"
      ]
    },
    {
      "cell_type": "code",
      "execution_count": null,
      "metadata": {
        "id": "fi3CwhEhR4WX"
      },
      "outputs": [],
      "source": [
        "def accuracy(outputs, labels):\n",
        "  metric = torchmetrics.Accuracy()\n",
        "  metric = metric.cuda()\n",
        "  return metric(outputs, labels)\n",
        "\n",
        "def precision(outputs, labels):\n",
        "  metric = torchmetrics.Precision(average='macro', num_classes=4)\n",
        "  metric = metric.cuda()\n",
        "  return metric(outputs, labels)\n",
        "\n",
        "def recall(outputs, labels):\n",
        "  metric = torchmetrics.Recall(average='macro', num_classes=4)\n",
        "  metric = metric.cuda()\n",
        "  return metric(outputs, labels)\n",
        "\n",
        "def f1_score(outputs, labels):\n",
        "  pr = precision(outputs, labels)\n",
        "  re = recall(outputs, labels)\n",
        "  return 2 * pr * re / (pr + re)"
      ]
    },
    {
      "cell_type": "code",
      "execution_count": null,
      "metadata": {
        "id": "Tq3UT6WTRPXH"
      },
      "outputs": [],
      "source": [
        "import torch.nn as nn\n",
        "import torch.nn.functional as F\n",
        "class NNModel(nn.Module):\n",
        "    def __init__(self, in_size, hidden_size, out_size):\n",
        "        super().__init__()\n",
        "        self.linear1 = nn.Linear(in_size, hidden_size)\n",
        "        self.linear2 = nn.Linear(hidden_size, hidden_size)\n",
        "        self.linear3 = nn.Linear(hidden_size, hidden_size)\n",
        "        self.linear4 = nn.Linear(hidden_size, hidden_size)\n",
        "        self.linear5 = nn.Linear(hidden_size, hidden_size)\n",
        "        self.linear6 = nn.Linear(hidden_size, out_size)\n",
        "        \n",
        "    def forward(self, xb):\n",
        "        # Flatten the image tensors\n",
        "        xb = xb.view(xb.size(0), -1)\n",
        "        # Get intermediate outputs using hidden layer\n",
        "        out = self.linear1(xb)\n",
        "        # Apply activation function\n",
        "        out = F.relu(out)\n",
        "        out = self.linear2(out)\n",
        "        out = F.relu(out)\n",
        "        out = self.linear3(out)\n",
        "        out = F.relu(out)\n",
        "        out = self.linear4(out)\n",
        "        out = F.relu(out)\n",
        "        out = self.linear5(out)\n",
        "        out = F.relu(out)\n",
        "        # Get predictions using output layer\n",
        "        out = self.linear6(out)\n",
        "        return out\n",
        "    \n",
        "    def training_step(self, batch):\n",
        "        images, labels = batch \n",
        "        out = self(images)                  # Generate predictions\n",
        "        loss = F.cross_entropy(out, labels) # Calculate loss\n",
        "        return loss\n",
        "    \n",
        "    def validation_step(self, batch):\n",
        "        images, labels = batch \n",
        "        out = self(images)                    # Generate predictions\n",
        "        loss = F.cross_entropy(out, labels)   # Calculate loss\n",
        "        acc = accuracy(out, labels)           # Calculate accuracy\n",
        "        prec = precision(out, labels)\n",
        "        rec = recall(out, labels)\n",
        "        f1 = f1_score(out, labels)\n",
        "        return {'val_loss':loss, 'val_acc': acc, 'val_recall': rec, 'val_precision': prec, 'val_f1': f1}\n",
        "        \n",
        "    def validation_epoch_end(self, outputs):\n",
        "        batch_losses = [x['val_loss'] for x in outputs]\n",
        "        epoch_loss = torch.stack(batch_losses).mean()\n",
        "        batch_accs = [x['val_acc'] for x in outputs]\n",
        "        epoch_acc = torch.stack(batch_accs).mean()  \n",
        "        batch_recall = [x['val_recall'] for x in outputs]\n",
        "        epoch_recall = torch.stack(batch_recall).mean()  \n",
        "        batch_precision = [x['val_precision'] for x in outputs]\n",
        "        epoch_precision = torch.stack(batch_precision).mean()  \n",
        "        batch_f1 = [x['val_f1'] for x in outputs]\n",
        "        epoch_f1 = torch.stack(batch_f1).mean()     \n",
        "        return {'val_loss': epoch_loss.item(), 'val_acc': epoch_acc.item(), 'val_recall': epoch_recall.item(), 'val_precision': epoch_precision.item(), 'val_f1': epoch_f1.item()}\n",
        "    \n",
        "    def epoch_end(self, epoch, result):\n",
        "        print(\"Epoch [{}], val_loss: {:.4f}, val_acc: {:.4f}, val_recall: {:.4f}, val_precision: {:.4f}, val_f1: {:.4f}\".format(epoch, result['val_loss'], result['val_acc'], result['val_recall'], result['val_precision'], result['val_f1']))"
      ]
    },
    {
      "cell_type": "code",
      "execution_count": null,
      "metadata": {
        "id": "_N8OEwwhRWli"
      },
      "outputs": [],
      "source": [
        "input_size = 32*32\n",
        "hidden_size = 100\n",
        "num_classes = 4"
      ]
    },
    {
      "cell_type": "code",
      "execution_count": null,
      "metadata": {
        "id": "VHrzdYCDRaYW"
      },
      "outputs": [],
      "source": [
        "def get_default_device():\n",
        "    \"\"\"Pick GPU if available, else CPU\"\"\"\n",
        "    if torch.cuda.is_available():\n",
        "        return torch.device('cuda')\n",
        "    else:\n",
        "        return torch.device('cpu')\n",
        "    \n",
        "def to_device(data, device):\n",
        "    \"\"\"Move tensor(s) to chosen device\"\"\"\n",
        "    if isinstance(data, (list,tuple)):\n",
        "        return [to_device(x, device) for x in data]\n",
        "    return data.to(device, non_blocking=True)\n",
        "\n",
        "class DeviceDataLoader():\n",
        "    \"\"\"Wrap a dataloader to move data to a device\"\"\"\n",
        "    def __init__(self, dl, device):\n",
        "        self.dl = dl\n",
        "        self.device = device\n",
        "        \n",
        "    def __iter__(self):\n",
        "        \"\"\"Yield a batch of data after moving it to device\"\"\"\n",
        "        for b in self.dl: \n",
        "            yield to_device(b, self.device)\n",
        "\n",
        "    def __len__(self):\n",
        "        \"\"\"Number of batches\"\"\"\n",
        "        return len(self.dl)"
      ]
    },
    {
      "cell_type": "code",
      "execution_count": null,
      "metadata": {
        "colab": {
          "base_uri": "https://localhost:8080/"
        },
        "id": "YClNPfbfRcLM",
        "outputId": "02455287-1511-468a-8c14-cc7f55aac131"
      },
      "outputs": [
        {
          "data": {
            "text/plain": [
              "device(type='cuda')"
            ]
          },
          "execution_count": 11,
          "metadata": {},
          "output_type": "execute_result"
        }
      ],
      "source": [
        "device = get_default_device()\n",
        "device"
      ]
    },
    {
      "cell_type": "code",
      "execution_count": null,
      "metadata": {
        "id": "qJnPSG6XvEwv"
      },
      "outputs": [],
      "source": [
        "batch_size = 25\n",
        "train_dataloader = DataLoader(train_dataset, batch_size, shuffle=True)\n",
        "validation_dataloader = DataLoader(val_dataset, batch_size)\n",
        "test_dataloader = DataLoader(test_dataset, batch_size)\n",
        "model = NNModel(input_size, hidden_size, out_size=num_classes)\n",
        "\n",
        "# Moving the model and datasets to default device (gpu if available)\n",
        "to_device(model, device)\n",
        "train_dataloader = DeviceDataLoader(train_dataloader, device)\n",
        "validation_dataloader = DeviceDataLoader(validation_dataloader, device)\n",
        "test_dataloader = DeviceDataLoader(test_dataloader, device)"
      ]
    },
    {
      "cell_type": "code",
      "execution_count": null,
      "metadata": {
        "id": "JAqe2nAtRfjW"
      },
      "outputs": [],
      "source": [
        "@torch.no_grad()\n",
        "def evaluate(model, val_loader):\n",
        "    model.eval()\n",
        "    outputs = [model.validation_step(batch) for batch in val_loader]\n",
        "    return model.validation_epoch_end(outputs)\n",
        "\n",
        "def fit(epochs, lr, model, train_loader, val_loader, opt_func=torch.optim.SGD):\n",
        "    history = []\n",
        "    optimizer = opt_func(model.parameters(), lr)\n",
        "    for epoch in range(epochs):\n",
        "        # Training Phase \n",
        "        model.train()\n",
        "        train_losses = []\n",
        "        for batch in train_loader:\n",
        "            loss = model.training_step(batch)\n",
        "            train_losses.append(loss)\n",
        "            loss.backward()\n",
        "            optimizer.step()\n",
        "            optimizer.zero_grad()\n",
        "        # Validation phase\n",
        "        result = evaluate(model, val_loader)\n",
        "        result['train_loss'] = torch.stack(train_losses).mean().item()\n",
        "        model.epoch_end(epoch, result)\n",
        "        history.append(result)\n",
        "    return history"
      ]
    },
    {
      "cell_type": "code",
      "execution_count": null,
      "metadata": {
        "colab": {
          "base_uri": "https://localhost:8080/"
        },
        "id": "6H6vrlJURoRZ",
        "outputId": "f1e924f0-6197-4494-b3f4-caaa35711a52"
      },
      "outputs": [
        {
          "data": {
            "text/plain": [
              "NNModel(\n",
              "  (linear1): Linear(in_features=1024, out_features=100, bias=True)\n",
              "  (linear2): Linear(in_features=100, out_features=100, bias=True)\n",
              "  (linear3): Linear(in_features=100, out_features=100, bias=True)\n",
              "  (linear4): Linear(in_features=100, out_features=100, bias=True)\n",
              "  (linear5): Linear(in_features=100, out_features=100, bias=True)\n",
              "  (linear6): Linear(in_features=100, out_features=4, bias=True)\n",
              ")"
            ]
          },
          "execution_count": 27,
          "metadata": {},
          "output_type": "execute_result"
        }
      ],
      "source": [
        "# Model (on GPU)\n",
        "model = NNModel(input_size, hidden_size, out_size=num_classes)\n",
        "model.to(device)"
      ]
    },
    {
      "cell_type": "code",
      "execution_count": null,
      "metadata": {
        "id": "6T0eNBZyOFJ9"
      },
      "outputs": [],
      "source": [
        "num_epochs = 200\n",
        "lr = 0.001"
      ]
    },
    {
      "cell_type": "code",
      "execution_count": null,
      "metadata": {
        "colab": {
          "base_uri": "https://localhost:8080/"
        },
        "id": "6BFwpxx5RqDf",
        "outputId": "d8e0d187-0af7-4d26-cfce-791e1039b720"
      },
      "outputs": [
        {
          "name": "stdout",
          "output_type": "stream",
          "text": [
            "Epoch [0], val_loss: 1.3547, val_acc: 0.6667, val_recall: 0.3113, val_precision: 0.2087, val_f1: 0.2480\n",
            "Epoch [1], val_loss: 1.3081, val_acc: 0.6667, val_recall: 0.3113, val_precision: 0.2087, val_f1: 0.2480\n",
            "Epoch [2], val_loss: 1.2657, val_acc: 0.6667, val_recall: 0.3113, val_precision: 0.2087, val_f1: 0.2480\n",
            "Epoch [3], val_loss: 1.2271, val_acc: 0.6667, val_recall: 0.3113, val_precision: 0.2087, val_f1: 0.2480\n",
            "Epoch [4], val_loss: 1.1920, val_acc: 0.6667, val_recall: 0.3113, val_precision: 0.2087, val_f1: 0.2480\n",
            "Epoch [5], val_loss: 1.1603, val_acc: 0.6667, val_recall: 0.3113, val_precision: 0.2087, val_f1: 0.2480\n",
            "Epoch [6], val_loss: 1.1319, val_acc: 0.6667, val_recall: 0.3113, val_precision: 0.2087, val_f1: 0.2480\n",
            "Epoch [7], val_loss: 1.1065, val_acc: 0.6667, val_recall: 0.3113, val_precision: 0.2087, val_f1: 0.2480\n",
            "Epoch [8], val_loss: 1.0839, val_acc: 0.6667, val_recall: 0.3113, val_precision: 0.2087, val_f1: 0.2480\n",
            "Epoch [9], val_loss: 1.0640, val_acc: 0.6667, val_recall: 0.3113, val_precision: 0.2087, val_f1: 0.2480\n",
            "Epoch [10], val_loss: 1.0466, val_acc: 0.6667, val_recall: 0.3113, val_precision: 0.2087, val_f1: 0.2480\n",
            "Epoch [11], val_loss: 1.0315, val_acc: 0.6667, val_recall: 0.3113, val_precision: 0.2087, val_f1: 0.2480\n",
            "Epoch [12], val_loss: 1.0185, val_acc: 0.6667, val_recall: 0.3113, val_precision: 0.2087, val_f1: 0.2480\n",
            "Epoch [13], val_loss: 1.0074, val_acc: 0.6667, val_recall: 0.3113, val_precision: 0.2087, val_f1: 0.2480\n",
            "Epoch [14], val_loss: 0.9978, val_acc: 0.6667, val_recall: 0.3113, val_precision: 0.2087, val_f1: 0.2480\n",
            "Epoch [15], val_loss: 0.9896, val_acc: 0.6667, val_recall: 0.3113, val_precision: 0.2087, val_f1: 0.2480\n",
            "Epoch [16], val_loss: 0.9826, val_acc: 0.6667, val_recall: 0.3113, val_precision: 0.2087, val_f1: 0.2480\n",
            "Epoch [17], val_loss: 0.9766, val_acc: 0.6667, val_recall: 0.3113, val_precision: 0.2087, val_f1: 0.2480\n",
            "Epoch [18], val_loss: 0.9714, val_acc: 0.6667, val_recall: 0.3113, val_precision: 0.2087, val_f1: 0.2480\n",
            "Epoch [19], val_loss: 0.9668, val_acc: 0.6667, val_recall: 0.3113, val_precision: 0.2087, val_f1: 0.2480\n",
            "Epoch [20], val_loss: 0.9628, val_acc: 0.6667, val_recall: 0.3113, val_precision: 0.2087, val_f1: 0.2480\n",
            "Epoch [21], val_loss: 0.9592, val_acc: 0.6667, val_recall: 0.3113, val_precision: 0.2087, val_f1: 0.2480\n",
            "Epoch [22], val_loss: 0.9559, val_acc: 0.6667, val_recall: 0.3113, val_precision: 0.2087, val_f1: 0.2480\n",
            "Epoch [23], val_loss: 0.9528, val_acc: 0.6667, val_recall: 0.3113, val_precision: 0.2087, val_f1: 0.2480\n",
            "Epoch [24], val_loss: 0.9499, val_acc: 0.6667, val_recall: 0.3113, val_precision: 0.2087, val_f1: 0.2480\n",
            "Epoch [25], val_loss: 0.9471, val_acc: 0.6667, val_recall: 0.3113, val_precision: 0.2087, val_f1: 0.2480\n",
            "Epoch [26], val_loss: 0.9443, val_acc: 0.6667, val_recall: 0.3113, val_precision: 0.2087, val_f1: 0.2480\n",
            "Epoch [27], val_loss: 0.9416, val_acc: 0.6667, val_recall: 0.3113, val_precision: 0.2087, val_f1: 0.2480\n",
            "Epoch [28], val_loss: 0.9389, val_acc: 0.6667, val_recall: 0.3113, val_precision: 0.2087, val_f1: 0.2480\n",
            "Epoch [29], val_loss: 0.9362, val_acc: 0.6667, val_recall: 0.3113, val_precision: 0.2087, val_f1: 0.2480\n",
            "Epoch [30], val_loss: 0.9334, val_acc: 0.6667, val_recall: 0.3113, val_precision: 0.2087, val_f1: 0.2480\n",
            "Epoch [31], val_loss: 0.9306, val_acc: 0.6667, val_recall: 0.3113, val_precision: 0.2087, val_f1: 0.2480\n",
            "Epoch [32], val_loss: 0.9277, val_acc: 0.6667, val_recall: 0.3113, val_precision: 0.2087, val_f1: 0.2480\n",
            "Epoch [33], val_loss: 0.9246, val_acc: 0.6667, val_recall: 0.3113, val_precision: 0.2087, val_f1: 0.2480\n",
            "Epoch [34], val_loss: 0.9213, val_acc: 0.6667, val_recall: 0.3113, val_precision: 0.2087, val_f1: 0.2480\n",
            "Epoch [35], val_loss: 0.9179, val_acc: 0.6667, val_recall: 0.3113, val_precision: 0.2087, val_f1: 0.2480\n",
            "Epoch [36], val_loss: 0.9143, val_acc: 0.6667, val_recall: 0.3113, val_precision: 0.2087, val_f1: 0.2480\n",
            "Epoch [37], val_loss: 0.9105, val_acc: 0.6667, val_recall: 0.3113, val_precision: 0.2087, val_f1: 0.2480\n",
            "Epoch [38], val_loss: 0.9065, val_acc: 0.6667, val_recall: 0.3113, val_precision: 0.2087, val_f1: 0.2480\n",
            "Epoch [39], val_loss: 0.9020, val_acc: 0.6667, val_recall: 0.3113, val_precision: 0.2087, val_f1: 0.2480\n",
            "Epoch [40], val_loss: 0.8971, val_acc: 0.6667, val_recall: 0.3113, val_precision: 0.2087, val_f1: 0.2480\n",
            "Epoch [41], val_loss: 0.8919, val_acc: 0.6667, val_recall: 0.3113, val_precision: 0.2087, val_f1: 0.2480\n",
            "Epoch [42], val_loss: 0.8863, val_acc: 0.6667, val_recall: 0.3113, val_precision: 0.2087, val_f1: 0.2480\n",
            "Epoch [43], val_loss: 0.8802, val_acc: 0.6667, val_recall: 0.3113, val_precision: 0.2087, val_f1: 0.2480\n",
            "Epoch [44], val_loss: 0.8735, val_acc: 0.6667, val_recall: 0.3113, val_precision: 0.2087, val_f1: 0.2480\n",
            "Epoch [45], val_loss: 0.8663, val_acc: 0.6667, val_recall: 0.3113, val_precision: 0.2087, val_f1: 0.2480\n",
            "Epoch [46], val_loss: 0.8589, val_acc: 0.6667, val_recall: 0.3113, val_precision: 0.2087, val_f1: 0.2480\n",
            "Epoch [47], val_loss: 0.8511, val_acc: 0.6667, val_recall: 0.3113, val_precision: 0.2087, val_f1: 0.2480\n",
            "Epoch [48], val_loss: 0.8425, val_acc: 0.6667, val_recall: 0.3113, val_precision: 0.2087, val_f1: 0.2480\n",
            "Epoch [49], val_loss: 0.8330, val_acc: 0.6667, val_recall: 0.3113, val_precision: 0.2087, val_f1: 0.2480\n",
            "Epoch [50], val_loss: 0.8225, val_acc: 0.6667, val_recall: 0.3113, val_precision: 0.2087, val_f1: 0.2480\n",
            "Epoch [51], val_loss: 0.8109, val_acc: 0.6667, val_recall: 0.3113, val_precision: 0.2087, val_f1: 0.2480\n",
            "Epoch [52], val_loss: 0.7987, val_acc: 0.6667, val_recall: 0.3113, val_precision: 0.2087, val_f1: 0.2480\n",
            "Epoch [53], val_loss: 0.7855, val_acc: 0.7000, val_recall: 0.3820, val_precision: 0.3363, val_f1: 0.3519\n",
            "Epoch [54], val_loss: 0.7709, val_acc: 0.7363, val_recall: 0.4607, val_precision: 0.4555, val_f1: 0.4536\n",
            "Epoch [55], val_loss: 0.7551, val_acc: 0.7510, val_recall: 0.4867, val_precision: 0.4884, val_f1: 0.4832\n",
            "Epoch [56], val_loss: 0.7385, val_acc: 0.7686, val_recall: 0.5213, val_precision: 0.4928, val_f1: 0.5043\n",
            "Epoch [57], val_loss: 0.7216, val_acc: 0.7789, val_recall: 0.5488, val_precision: 0.5200, val_f1: 0.5319\n",
            "Epoch [58], val_loss: 0.7052, val_acc: 0.7863, val_recall: 0.5602, val_precision: 0.5220, val_f1: 0.5383\n",
            "Epoch [59], val_loss: 0.6902, val_acc: 0.7892, val_recall: 0.5672, val_precision: 0.5228, val_f1: 0.5423\n",
            "Epoch [60], val_loss: 0.6771, val_acc: 0.7892, val_recall: 0.5698, val_precision: 0.5208, val_f1: 0.5425\n",
            "Epoch [61], val_loss: 0.6660, val_acc: 0.7892, val_recall: 0.5740, val_precision: 0.5275, val_f1: 0.5482\n",
            "Epoch [62], val_loss: 0.6566, val_acc: 0.7877, val_recall: 0.5734, val_precision: 0.5250, val_f1: 0.5465\n",
            "Epoch [63], val_loss: 0.6488, val_acc: 0.7907, val_recall: 0.5773, val_precision: 0.5257, val_f1: 0.5488\n",
            "Epoch [64], val_loss: 0.6422, val_acc: 0.7877, val_recall: 0.5736, val_precision: 0.5220, val_f1: 0.5450\n",
            "Epoch [65], val_loss: 0.6365, val_acc: 0.7863, val_recall: 0.5727, val_precision: 0.5185, val_f1: 0.5426\n",
            "Epoch [66], val_loss: 0.6316, val_acc: 0.7863, val_recall: 0.5727, val_precision: 0.5185, val_f1: 0.5426\n",
            "Epoch [67], val_loss: 0.6274, val_acc: 0.7877, val_recall: 0.5817, val_precision: 0.5246, val_f1: 0.5501\n",
            "Epoch [68], val_loss: 0.6236, val_acc: 0.7877, val_recall: 0.5817, val_precision: 0.5246, val_f1: 0.5501\n",
            "Epoch [69], val_loss: 0.6202, val_acc: 0.7907, val_recall: 0.5887, val_precision: 0.5261, val_f1: 0.5542\n",
            "Epoch [70], val_loss: 0.6172, val_acc: 0.7907, val_recall: 0.5887, val_precision: 0.5261, val_f1: 0.5542\n",
            "Epoch [71], val_loss: 0.6145, val_acc: 0.7907, val_recall: 0.5887, val_precision: 0.5261, val_f1: 0.5542\n",
            "Epoch [72], val_loss: 0.6120, val_acc: 0.7907, val_recall: 0.5887, val_precision: 0.5261, val_f1: 0.5542\n",
            "Epoch [73], val_loss: 0.6097, val_acc: 0.7907, val_recall: 0.5887, val_precision: 0.5261, val_f1: 0.5542\n",
            "Epoch [74], val_loss: 0.6077, val_acc: 0.7907, val_recall: 0.5887, val_precision: 0.5261, val_f1: 0.5542\n",
            "Epoch [75], val_loss: 0.6057, val_acc: 0.7907, val_recall: 0.5887, val_precision: 0.5261, val_f1: 0.5542\n",
            "Epoch [76], val_loss: 0.6040, val_acc: 0.7907, val_recall: 0.5887, val_precision: 0.5261, val_f1: 0.5542\n",
            "Epoch [77], val_loss: 0.6024, val_acc: 0.7907, val_recall: 0.5887, val_precision: 0.5261, val_f1: 0.5542\n",
            "Epoch [78], val_loss: 0.6009, val_acc: 0.7907, val_recall: 0.5887, val_precision: 0.5261, val_f1: 0.5542\n",
            "Epoch [79], val_loss: 0.5995, val_acc: 0.7907, val_recall: 0.5887, val_precision: 0.5261, val_f1: 0.5542\n",
            "Epoch [80], val_loss: 0.5982, val_acc: 0.7907, val_recall: 0.5887, val_precision: 0.5261, val_f1: 0.5542\n",
            "Epoch [81], val_loss: 0.5969, val_acc: 0.7907, val_recall: 0.5887, val_precision: 0.5261, val_f1: 0.5542\n",
            "Epoch [82], val_loss: 0.5958, val_acc: 0.7907, val_recall: 0.5887, val_precision: 0.5261, val_f1: 0.5542\n",
            "Epoch [83], val_loss: 0.5947, val_acc: 0.7907, val_recall: 0.5887, val_precision: 0.5261, val_f1: 0.5542\n",
            "Epoch [84], val_loss: 0.5937, val_acc: 0.7907, val_recall: 0.5887, val_precision: 0.5261, val_f1: 0.5542\n",
            "Epoch [85], val_loss: 0.5927, val_acc: 0.7907, val_recall: 0.5887, val_precision: 0.5261, val_f1: 0.5542\n",
            "Epoch [86], val_loss: 0.5918, val_acc: 0.7907, val_recall: 0.5887, val_precision: 0.5261, val_f1: 0.5542\n",
            "Epoch [87], val_loss: 0.5910, val_acc: 0.7907, val_recall: 0.5887, val_precision: 0.5261, val_f1: 0.5542\n",
            "Epoch [88], val_loss: 0.5901, val_acc: 0.7907, val_recall: 0.5887, val_precision: 0.5261, val_f1: 0.5542\n",
            "Epoch [89], val_loss: 0.5894, val_acc: 0.7907, val_recall: 0.5887, val_precision: 0.5261, val_f1: 0.5542\n",
            "Epoch [90], val_loss: 0.5886, val_acc: 0.7907, val_recall: 0.5887, val_precision: 0.5261, val_f1: 0.5542\n",
            "Epoch [91], val_loss: 0.5879, val_acc: 0.7907, val_recall: 0.5887, val_precision: 0.5261, val_f1: 0.5542\n",
            "Epoch [92], val_loss: 0.5873, val_acc: 0.7907, val_recall: 0.5887, val_precision: 0.5261, val_f1: 0.5542\n",
            "Epoch [93], val_loss: 0.5866, val_acc: 0.7907, val_recall: 0.5887, val_precision: 0.5261, val_f1: 0.5542\n",
            "Epoch [94], val_loss: 0.5860, val_acc: 0.7907, val_recall: 0.5887, val_precision: 0.5261, val_f1: 0.5542\n",
            "Epoch [95], val_loss: 0.5854, val_acc: 0.7907, val_recall: 0.5887, val_precision: 0.5261, val_f1: 0.5542\n",
            "Epoch [96], val_loss: 0.5848, val_acc: 0.7907, val_recall: 0.5887, val_precision: 0.5261, val_f1: 0.5542\n",
            "Epoch [97], val_loss: 0.5842, val_acc: 0.7907, val_recall: 0.5887, val_precision: 0.5261, val_f1: 0.5542\n",
            "Epoch [98], val_loss: 0.5837, val_acc: 0.7907, val_recall: 0.5887, val_precision: 0.5261, val_f1: 0.5542\n",
            "Epoch [99], val_loss: 0.5832, val_acc: 0.7907, val_recall: 0.5887, val_precision: 0.5261, val_f1: 0.5542\n",
            "Epoch [100], val_loss: 0.5826, val_acc: 0.7907, val_recall: 0.5887, val_precision: 0.5261, val_f1: 0.5542\n",
            "Epoch [101], val_loss: 0.5821, val_acc: 0.7907, val_recall: 0.5887, val_precision: 0.5261, val_f1: 0.5542\n",
            "Epoch [102], val_loss: 0.5816, val_acc: 0.7907, val_recall: 0.5887, val_precision: 0.5261, val_f1: 0.5542\n",
            "Epoch [103], val_loss: 0.5812, val_acc: 0.7907, val_recall: 0.5887, val_precision: 0.5261, val_f1: 0.5542\n",
            "Epoch [104], val_loss: 0.5807, val_acc: 0.7907, val_recall: 0.5887, val_precision: 0.5261, val_f1: 0.5542\n",
            "Epoch [105], val_loss: 0.5803, val_acc: 0.7907, val_recall: 0.5887, val_precision: 0.5261, val_f1: 0.5542\n",
            "Epoch [106], val_loss: 0.5799, val_acc: 0.7907, val_recall: 0.5887, val_precision: 0.5261, val_f1: 0.5542\n",
            "Epoch [107], val_loss: 0.5794, val_acc: 0.7907, val_recall: 0.5887, val_precision: 0.5261, val_f1: 0.5542\n",
            "Epoch [108], val_loss: 0.5790, val_acc: 0.7907, val_recall: 0.5887, val_precision: 0.5261, val_f1: 0.5542\n",
            "Epoch [109], val_loss: 0.5786, val_acc: 0.7907, val_recall: 0.5887, val_precision: 0.5261, val_f1: 0.5542\n",
            "Epoch [110], val_loss: 0.5782, val_acc: 0.7907, val_recall: 0.5887, val_precision: 0.5261, val_f1: 0.5542\n",
            "Epoch [111], val_loss: 0.5778, val_acc: 0.7907, val_recall: 0.5887, val_precision: 0.5261, val_f1: 0.5542\n",
            "Epoch [112], val_loss: 0.5774, val_acc: 0.7907, val_recall: 0.5887, val_precision: 0.5261, val_f1: 0.5542\n",
            "Epoch [113], val_loss: 0.5770, val_acc: 0.7907, val_recall: 0.5887, val_precision: 0.5261, val_f1: 0.5542\n",
            "Epoch [114], val_loss: 0.5766, val_acc: 0.7907, val_recall: 0.5887, val_precision: 0.5261, val_f1: 0.5542\n",
            "Epoch [115], val_loss: 0.5763, val_acc: 0.7907, val_recall: 0.5887, val_precision: 0.5261, val_f1: 0.5542\n",
            "Epoch [116], val_loss: 0.5759, val_acc: 0.7907, val_recall: 0.5887, val_precision: 0.5261, val_f1: 0.5542\n",
            "Epoch [117], val_loss: 0.5756, val_acc: 0.7907, val_recall: 0.5887, val_precision: 0.5261, val_f1: 0.5542\n",
            "Epoch [118], val_loss: 0.5752, val_acc: 0.7907, val_recall: 0.5887, val_precision: 0.5261, val_f1: 0.5542\n",
            "Epoch [119], val_loss: 0.5749, val_acc: 0.7907, val_recall: 0.5887, val_precision: 0.5261, val_f1: 0.5542\n",
            "Epoch [120], val_loss: 0.5745, val_acc: 0.7907, val_recall: 0.5887, val_precision: 0.5261, val_f1: 0.5542\n",
            "Epoch [121], val_loss: 0.5742, val_acc: 0.7907, val_recall: 0.5887, val_precision: 0.5261, val_f1: 0.5542\n",
            "Epoch [122], val_loss: 0.5738, val_acc: 0.7907, val_recall: 0.5887, val_precision: 0.5261, val_f1: 0.5542\n",
            "Epoch [123], val_loss: 0.5735, val_acc: 0.7907, val_recall: 0.5887, val_precision: 0.5261, val_f1: 0.5542\n",
            "Epoch [124], val_loss: 0.5732, val_acc: 0.7907, val_recall: 0.5887, val_precision: 0.5261, val_f1: 0.5542\n",
            "Epoch [125], val_loss: 0.5728, val_acc: 0.7907, val_recall: 0.5887, val_precision: 0.5261, val_f1: 0.5542\n",
            "Epoch [126], val_loss: 0.5725, val_acc: 0.7907, val_recall: 0.5887, val_precision: 0.5261, val_f1: 0.5542\n",
            "Epoch [127], val_loss: 0.5722, val_acc: 0.7907, val_recall: 0.5887, val_precision: 0.5261, val_f1: 0.5542\n",
            "Epoch [128], val_loss: 0.5719, val_acc: 0.7907, val_recall: 0.5887, val_precision: 0.5261, val_f1: 0.5542\n",
            "Epoch [129], val_loss: 0.5716, val_acc: 0.7907, val_recall: 0.5887, val_precision: 0.5261, val_f1: 0.5542\n",
            "Epoch [130], val_loss: 0.5713, val_acc: 0.7907, val_recall: 0.5887, val_precision: 0.5261, val_f1: 0.5542\n",
            "Epoch [131], val_loss: 0.5710, val_acc: 0.7907, val_recall: 0.5887, val_precision: 0.5261, val_f1: 0.5542\n",
            "Epoch [132], val_loss: 0.5707, val_acc: 0.7907, val_recall: 0.5887, val_precision: 0.5261, val_f1: 0.5542\n",
            "Epoch [133], val_loss: 0.5704, val_acc: 0.7907, val_recall: 0.5887, val_precision: 0.5261, val_f1: 0.5542\n",
            "Epoch [134], val_loss: 0.5701, val_acc: 0.7907, val_recall: 0.5887, val_precision: 0.5261, val_f1: 0.5542\n",
            "Epoch [135], val_loss: 0.5698, val_acc: 0.7907, val_recall: 0.5887, val_precision: 0.5261, val_f1: 0.5542\n",
            "Epoch [136], val_loss: 0.5695, val_acc: 0.7907, val_recall: 0.5887, val_precision: 0.5261, val_f1: 0.5542\n",
            "Epoch [137], val_loss: 0.5692, val_acc: 0.7907, val_recall: 0.5887, val_precision: 0.5261, val_f1: 0.5542\n",
            "Epoch [138], val_loss: 0.5689, val_acc: 0.7907, val_recall: 0.5887, val_precision: 0.5261, val_f1: 0.5542\n",
            "Epoch [139], val_loss: 0.5686, val_acc: 0.7907, val_recall: 0.5887, val_precision: 0.5261, val_f1: 0.5542\n",
            "Epoch [140], val_loss: 0.5684, val_acc: 0.7907, val_recall: 0.5887, val_precision: 0.5261, val_f1: 0.5542\n",
            "Epoch [141], val_loss: 0.5681, val_acc: 0.7907, val_recall: 0.5887, val_precision: 0.5261, val_f1: 0.5542\n",
            "Epoch [142], val_loss: 0.5678, val_acc: 0.7907, val_recall: 0.5887, val_precision: 0.5261, val_f1: 0.5542\n",
            "Epoch [143], val_loss: 0.5675, val_acc: 0.7907, val_recall: 0.5887, val_precision: 0.5261, val_f1: 0.5542\n",
            "Epoch [144], val_loss: 0.5672, val_acc: 0.7907, val_recall: 0.5887, val_precision: 0.5261, val_f1: 0.5542\n",
            "Epoch [145], val_loss: 0.5670, val_acc: 0.7907, val_recall: 0.5887, val_precision: 0.5261, val_f1: 0.5542\n",
            "Epoch [146], val_loss: 0.5667, val_acc: 0.7907, val_recall: 0.5887, val_precision: 0.5261, val_f1: 0.5542\n",
            "Epoch [147], val_loss: 0.5664, val_acc: 0.7907, val_recall: 0.5887, val_precision: 0.5261, val_f1: 0.5542\n",
            "Epoch [148], val_loss: 0.5662, val_acc: 0.7922, val_recall: 0.5911, val_precision: 0.5263, val_f1: 0.5555\n",
            "Epoch [149], val_loss: 0.5659, val_acc: 0.7922, val_recall: 0.5911, val_precision: 0.5263, val_f1: 0.5555\n",
            "Epoch [150], val_loss: 0.5656, val_acc: 0.7922, val_recall: 0.5911, val_precision: 0.5263, val_f1: 0.5555\n",
            "Epoch [151], val_loss: 0.5653, val_acc: 0.7922, val_recall: 0.5911, val_precision: 0.5263, val_f1: 0.5555\n",
            "Epoch [152], val_loss: 0.5651, val_acc: 0.7922, val_recall: 0.5911, val_precision: 0.5263, val_f1: 0.5555\n",
            "Epoch [153], val_loss: 0.5648, val_acc: 0.7922, val_recall: 0.5911, val_precision: 0.5263, val_f1: 0.5555\n",
            "Epoch [154], val_loss: 0.5645, val_acc: 0.7922, val_recall: 0.5911, val_precision: 0.5263, val_f1: 0.5555\n",
            "Epoch [155], val_loss: 0.5642, val_acc: 0.7922, val_recall: 0.5911, val_precision: 0.5263, val_f1: 0.5555\n",
            "Epoch [156], val_loss: 0.5640, val_acc: 0.7922, val_recall: 0.5911, val_precision: 0.5263, val_f1: 0.5555\n",
            "Epoch [157], val_loss: 0.5637, val_acc: 0.7922, val_recall: 0.5911, val_precision: 0.5263, val_f1: 0.5555\n",
            "Epoch [158], val_loss: 0.5634, val_acc: 0.7922, val_recall: 0.5911, val_precision: 0.5263, val_f1: 0.5555\n",
            "Epoch [159], val_loss: 0.5631, val_acc: 0.7922, val_recall: 0.5911, val_precision: 0.5263, val_f1: 0.5555\n",
            "Epoch [160], val_loss: 0.5629, val_acc: 0.7922, val_recall: 0.5911, val_precision: 0.5263, val_f1: 0.5555\n",
            "Epoch [161], val_loss: 0.5626, val_acc: 0.7922, val_recall: 0.5911, val_precision: 0.5263, val_f1: 0.5555\n",
            "Epoch [162], val_loss: 0.5623, val_acc: 0.7922, val_recall: 0.5911, val_precision: 0.5263, val_f1: 0.5555\n",
            "Epoch [163], val_loss: 0.5620, val_acc: 0.7922, val_recall: 0.5911, val_precision: 0.5263, val_f1: 0.5555\n",
            "Epoch [164], val_loss: 0.5617, val_acc: 0.7922, val_recall: 0.5911, val_precision: 0.5263, val_f1: 0.5555\n",
            "Epoch [165], val_loss: 0.5615, val_acc: 0.7922, val_recall: 0.5911, val_precision: 0.5263, val_f1: 0.5555\n",
            "Epoch [166], val_loss: 0.5612, val_acc: 0.7922, val_recall: 0.5911, val_precision: 0.5263, val_f1: 0.5555\n",
            "Epoch [167], val_loss: 0.5609, val_acc: 0.7922, val_recall: 0.5911, val_precision: 0.5263, val_f1: 0.5555\n",
            "Epoch [168], val_loss: 0.5606, val_acc: 0.7922, val_recall: 0.5911, val_precision: 0.5263, val_f1: 0.5555\n",
            "Epoch [169], val_loss: 0.5603, val_acc: 0.7922, val_recall: 0.5911, val_precision: 0.5263, val_f1: 0.5555\n",
            "Epoch [170], val_loss: 0.5600, val_acc: 0.7936, val_recall: 0.5920, val_precision: 0.5290, val_f1: 0.5575\n",
            "Epoch [171], val_loss: 0.5597, val_acc: 0.7936, val_recall: 0.5920, val_precision: 0.5290, val_f1: 0.5575\n",
            "Epoch [172], val_loss: 0.5594, val_acc: 0.7922, val_recall: 0.5911, val_precision: 0.5263, val_f1: 0.5555\n",
            "Epoch [173], val_loss: 0.5591, val_acc: 0.7936, val_recall: 0.5920, val_precision: 0.5290, val_f1: 0.5575\n",
            "Epoch [174], val_loss: 0.5588, val_acc: 0.7936, val_recall: 0.5920, val_precision: 0.5290, val_f1: 0.5575\n",
            "Epoch [175], val_loss: 0.5585, val_acc: 0.7951, val_recall: 0.5927, val_precision: 0.5308, val_f1: 0.5590\n",
            "Epoch [176], val_loss: 0.5581, val_acc: 0.7951, val_recall: 0.5927, val_precision: 0.5308, val_f1: 0.5590\n",
            "Epoch [177], val_loss: 0.5578, val_acc: 0.7951, val_recall: 0.5927, val_precision: 0.5308, val_f1: 0.5590\n",
            "Epoch [178], val_loss: 0.5575, val_acc: 0.7951, val_recall: 0.5927, val_precision: 0.5308, val_f1: 0.5590\n",
            "Epoch [179], val_loss: 0.5571, val_acc: 0.7951, val_recall: 0.5927, val_precision: 0.5308, val_f1: 0.5590\n",
            "Epoch [180], val_loss: 0.5568, val_acc: 0.7951, val_recall: 0.5927, val_precision: 0.5308, val_f1: 0.5590\n",
            "Epoch [181], val_loss: 0.5565, val_acc: 0.7951, val_recall: 0.5927, val_precision: 0.5308, val_f1: 0.5590\n",
            "Epoch [182], val_loss: 0.5561, val_acc: 0.7966, val_recall: 0.5964, val_precision: 0.5311, val_f1: 0.5609\n",
            "Epoch [183], val_loss: 0.5557, val_acc: 0.7966, val_recall: 0.5964, val_precision: 0.5311, val_f1: 0.5609\n",
            "Epoch [184], val_loss: 0.5554, val_acc: 0.7966, val_recall: 0.5964, val_precision: 0.5311, val_f1: 0.5609\n",
            "Epoch [185], val_loss: 0.5550, val_acc: 0.7966, val_recall: 0.5964, val_precision: 0.5311, val_f1: 0.5609\n",
            "Epoch [186], val_loss: 0.5546, val_acc: 0.7966, val_recall: 0.5964, val_precision: 0.5311, val_f1: 0.5609\n",
            "Epoch [187], val_loss: 0.5542, val_acc: 0.7966, val_recall: 0.5964, val_precision: 0.5311, val_f1: 0.5609\n",
            "Epoch [188], val_loss: 0.5538, val_acc: 0.7966, val_recall: 0.5964, val_precision: 0.5311, val_f1: 0.5609\n",
            "Epoch [189], val_loss: 0.5534, val_acc: 0.7966, val_recall: 0.5964, val_precision: 0.5311, val_f1: 0.5609\n",
            "Epoch [190], val_loss: 0.5530, val_acc: 0.7966, val_recall: 0.5964, val_precision: 0.5311, val_f1: 0.5609\n",
            "Epoch [191], val_loss: 0.5526, val_acc: 0.7966, val_recall: 0.5964, val_precision: 0.5311, val_f1: 0.5609\n",
            "Epoch [192], val_loss: 0.5522, val_acc: 0.7966, val_recall: 0.5964, val_precision: 0.5311, val_f1: 0.5609\n",
            "Epoch [193], val_loss: 0.5517, val_acc: 0.7966, val_recall: 0.5964, val_precision: 0.5311, val_f1: 0.5609\n",
            "Epoch [194], val_loss: 0.5513, val_acc: 0.7966, val_recall: 0.5964, val_precision: 0.5311, val_f1: 0.5609\n",
            "Epoch [195], val_loss: 0.5508, val_acc: 0.7966, val_recall: 0.5964, val_precision: 0.5311, val_f1: 0.5609\n",
            "Epoch [196], val_loss: 0.5504, val_acc: 0.7966, val_recall: 0.5964, val_precision: 0.5311, val_f1: 0.5609\n",
            "Epoch [197], val_loss: 0.5499, val_acc: 0.7966, val_recall: 0.5964, val_precision: 0.5311, val_f1: 0.5609\n",
            "Epoch [198], val_loss: 0.5494, val_acc: 0.7980, val_recall: 0.5989, val_precision: 0.5315, val_f1: 0.5623\n",
            "Epoch [199], val_loss: 0.5489, val_acc: 0.7980, val_recall: 0.5989, val_precision: 0.5315, val_f1: 0.5623\n"
          ]
        }
      ],
      "source": [
        "history = fit(num_epochs, lr, model, train_dataloader, validation_dataloader)"
      ]
    },
    {
      "cell_type": "code",
      "execution_count": null,
      "metadata": {
        "id": "fuNaxDjnRs0O"
      },
      "outputs": [],
      "source": [
        "import matplotlib.pyplot as plt\n",
        "def plot_accuracies(history, metric, ylabel, title):\n",
        "    accuracies = [x[metric] for x in history]\n",
        "    plt.plot(accuracies)\n",
        "    plt.xlabel('epoch')\n",
        "    plt.ylabel(ylabel)\n",
        "    plt.title(title);"
      ]
    },
    {
      "cell_type": "code",
      "execution_count": null,
      "metadata": {
        "id": "OG-6dCMGcmkA"
      },
      "outputs": [],
      "source": [
        "def plot_losses(history):\n",
        "    train_losses = [x.get('train_loss') for x in history]\n",
        "    val_losses = [x['val_loss'] for x in history]\n",
        "    plt.plot(train_losses, '-b')\n",
        "    plt.plot(val_losses, '-r')\n",
        "    plt.xlabel('epoch')\n",
        "    plt.ylabel('loss')\n",
        "    plt.legend(['Training', 'Validation'])\n",
        "    plt.title('Loss vs. No. of epochs');"
      ]
    },
    {
      "cell_type": "code",
      "execution_count": null,
      "metadata": {
        "colab": {
          "base_uri": "https://localhost:8080/",
          "height": 295
        },
        "id": "dFr2NLrlc5RT",
        "outputId": "c0f1daae-a7ae-46f4-96a7-b6636f371104"
      },
      "outputs": [
        {
          "data": {
            "image/png": "[encoded data removed]",
            "text/plain": [
              "<Figure size 432x288 with 1 Axes>"
            ]
          },
          "metadata": {
            "needs_background": "light"
          },
          "output_type": "display_data"
        }
      ],
      "source": [
        "plot_losses(history)"
      ]
    },
    {
      "cell_type": "code",
      "execution_count": null,
      "metadata": {
        "colab": {
          "base_uri": "https://localhost:8080/",
          "height": 295
        },
        "id": "3QBDe5g0Rt61",
        "outputId": "d5b23020-1fe8-47d3-f617-7bcd40f68e51"
      },
      "outputs": [
        {
          "data": {
            "image/png": "[encoded data removed]",
            "text/plain": [
              "<Figure size 432x288 with 1 Axes>"
            ]
          },
          "metadata": {
            "needs_background": "light"
          },
          "output_type": "display_data"
        }
      ],
      "source": [
        "plot_accuracies(history, 'val_acc', 'Validation Accuracy', 'Validation Accuracy vs. No. of epochs')"
      ]
    },
    {
      "cell_type": "code",
      "execution_count": null,
      "metadata": {
        "colab": {
          "base_uri": "https://localhost:8080/",
          "height": 295
        },
        "id": "AOgdYQiDbOUN",
        "outputId": "6bee41b9-cbff-4700-b672-416e8ee25a65"
      },
      "outputs": [
        {
          "data": {
            "image/png": "[encoded data removed]",
            "text/plain": [
              "<Figure size 432x288 with 1 Axes>"
            ]
          },
          "metadata": {
            "needs_background": "light"
          },
          "output_type": "display_data"
        }
      ],
      "source": [
        "plot_accuracies(history, 'val_f1', 'Validation F1 Score', 'Validation F1 Score vs. No. of epochs')"
      ]
    },
    {
      "cell_type": "code",
      "execution_count": null,
      "metadata": {
        "id": "JVz10n_tRrvz"
      },
      "outputs": [],
      "source": [
        "# evaluating the test dataset performance\n",
        "test_history = [evaluate(model, test_dataloader)]"
      ]
    },
    {
      "cell_type": "code",
      "execution_count": null,
      "metadata": {
        "colab": {
          "base_uri": "https://localhost:8080/"
        },
        "id": "3OOX0NZAczAg",
        "outputId": "de4b8ae6-800b-4f37-afef-42ebb7fb6ed2"
      },
      "outputs": [
        {
          "data": {
            "text/plain": [
              "[{'val_acc': 0.8019444942474365,\n",
              "  'val_f1': 0.5467435121536255,\n",
              "  'val_loss': 0.5364028215408325,\n",
              "  'val_precision': 0.5200064778327942,\n",
              "  'val_recall': 0.5814374685287476}]"
            ]
          },
          "execution_count": 46,
          "metadata": {},
          "output_type": "execute_result"
        }
      ],
      "source": [
        "test_history"
      ]
    },
    {
      "cell_type": "code",
      "execution_count": null,
      "metadata": {
        "id": "HLDoe5jwgb9A"
      },
      "outputs": [],
      "source": [
        "torch.save(model.state_dict(), '/content/drive/My Drive/softcom/one/nnmodel.pth')"
      ]
    },
    {
      "cell_type": "markdown",
      "metadata": {
        "id": "p1NUTt-rQLwS"
      },
      "source": [
        "**Experiment 02**\n",
        "\n",
        "\n",
        "\n",
        "\n",
        "\n"
      ]
    },
    {
      "cell_type": "code",
      "execution_count": null,
      "metadata": {
        "id": "LtW-rR9s7vqL"
      },
      "outputs": [],
      "source": [
        "# Keeping num_output_channels=3, will get better performance with CNN Model\n",
        "train_transform_cnn = transforms.Compose([\n",
        "                      transforms.Resize((32, 32)), \n",
        "                      transforms.RandomRotation(20),\n",
        "                      transforms.ToTensor(),])"
      ]
    },
    {
      "cell_type": "code",
      "execution_count": null,
      "metadata": {
        "colab": {
          "base_uri": "https://localhost:8080/"
        },
        "id": "YoHsAhKqd9Wb",
        "outputId": "36b0e5f2-beb7-4e99-ea94-f9939708d049"
      },
      "outputs": [
        {
          "name": "stdout",
          "output_type": "stream",
          "text": [
            "Dataset ImageFolder\n",
            "    Number of datapoints: 4482\n",
            "    Root location: /content/drive/My Drive/My 4-2/imagery/\n",
            "    StandardTransform\n",
            "Transform: Compose(\n",
            "               Resize(size=(32, 32), interpolation=bilinear, max_size=None, antialias=None)\n",
            "               RandomRotation(degrees=[-20.0, 20.0], interpolation=nearest, expand=False, fill=0)\n",
            "               ToTensor()\n",
            "           )\n"
          ]
        }
      ],
      "source": [
        "dataset = ImageFolder(data_dir, transform=train_transform_cnn)\n",
        "print(dataset)"
      ]
    },
    {
      "cell_type": "code",
      "execution_count": null,
      "metadata": {
        "colab": {
          "base_uri": "https://localhost:8080/"
        },
        "id": "fxLCFWwdd9Wc",
        "outputId": "717adc15-faa1-4dd1-9965-cbab5790be0c"
      },
      "outputs": [
        {
          "data": {
            "text/plain": [
              "(2914, 672, 896)"
            ]
          },
          "execution_count": 14,
          "metadata": {},
          "output_type": "execute_result"
        }
      ],
      "source": [
        "random_seed = 54\n",
        "torch.manual_seed(random_seed);\n",
        "test_size = math.floor(0.2 * len(dataset))\n",
        "val_size = math.floor(0.15 * len(dataset))\n",
        "train_size = len(dataset) - val_size - test_size\n",
        "train_dataset, val_dataset, test_dataset = random_split(dataset, [train_size, val_size, test_size])\n",
        "len(train_dataset), len(val_dataset), len(test_dataset)"
      ]
    },
    {
      "cell_type": "code",
      "execution_count": null,
      "metadata": {
        "id": "mKnenzvbgzN-"
      },
      "outputs": [],
      "source": [
        "batch_size = 20\n",
        "train_dataloader = DataLoader(train_dataset, batch_size, shuffle=True)\n",
        "validation_dataloader = DataLoader(val_dataset, batch_size)\n",
        "test_dataloader = DataLoader(test_dataset, batch_size)"
      ]
    },
    {
      "cell_type": "code",
      "execution_count": null,
      "metadata": {
        "id": "Fi_Zvy71i6sU"
      },
      "outputs": [],
      "source": [
        "class ImageClassificationBase(nn.Module):\n",
        "    def training_step(self, batch):\n",
        "        images, labels = batch \n",
        "        out = self(images)                  # Generate predictions\n",
        "        loss = F.cross_entropy(out, labels) # Calculate loss\n",
        "        return loss\n",
        "    \n",
        "    def validation_step(self, batch):\n",
        "        images, labels = batch \n",
        "        out = self(images)                    # Generate predictions\n",
        "        out = out.to(device='cuda')\n",
        "        loss = F.cross_entropy(out, labels)   # Calculate loss\n",
        "        labels = labels.to(device='cuda')\n",
        "        acc = accuracy(out, labels)           # Calculate accuracy\n",
        "        prec = precision(out, labels)\n",
        "        rec = recall(out, labels)\n",
        "        f1 = f1_score(out, labels)\n",
        "        return {'val_loss':loss, 'val_acc': acc, 'val_recall': rec, 'val_precision': prec, 'val_f1': f1}\n",
        "        \n",
        "    def validation_epoch_end(self, outputs):\n",
        "        batch_losses = [x['val_loss'] for x in outputs]\n",
        "        epoch_loss = torch.stack(batch_losses).mean()   # Combine losses\n",
        "        batch_accs = [x['val_acc'] for x in outputs]\n",
        "        epoch_acc = torch.stack(batch_accs).mean()      # Combine accuracies\n",
        "        batch_recall = [x['val_recall'] for x in outputs]\n",
        "        epoch_recall = torch.stack(batch_recall).mean()  \n",
        "        batch_precision = [x['val_precision'] for x in outputs]\n",
        "        epoch_precision = torch.stack(batch_precision).mean()  \n",
        "        batch_f1 = [x['val_f1'] for x in outputs]\n",
        "        epoch_f1 = torch.stack(batch_f1).mean()     \n",
        "        return {'val_loss': epoch_loss.item(), 'val_acc': epoch_acc.item(), 'val_recall': epoch_recall.item(), 'val_precision': epoch_precision.item(), 'val_f1': epoch_f1.item()}\n",
        "    \n",
        "    def epoch_end(self, epoch, result):\n",
        "        print(\"Epoch [{}], train_loss: {:.4f}, val_loss: {:.4f}, val_acc: {:.4f}, val_prec: {:.4f}, val_recall: {:.4f}, val_f1: {:.4f}\".format(\n",
        "            epoch, result['train_loss'], result['val_loss'], result['val_acc'], result['val_precision'], result['val_recall'], result['val_f1'] ))"
      ]
    },
    {
      "cell_type": "code",
      "execution_count": null,
      "metadata": {
        "id": "UDvRyALMjz0I"
      },
      "outputs": [],
      "source": [
        "class CnnModel(ImageClassificationBase):\n",
        "    def __init__(self):\n",
        "        super().__init__()\n",
        "        self.network = nn.Sequential(\n",
        "            nn.Conv2d(3, 32, kernel_size=3, padding=1),\n",
        "            nn.ReLU(),\n",
        "            nn.Conv2d(32, 64, kernel_size=3, stride=1, padding=1),\n",
        "            nn.ReLU(),\n",
        "            \n",
        "            nn.MaxPool2d(2, 2), # output: 64 x 16 x 16\n",
        "            \n",
        "\n",
        "            nn.Conv2d(64, 128, kernel_size=3, stride=1, padding=1),\n",
        "            nn.ReLU(),\n",
        "            nn.Conv2d(128, 128, kernel_size=3, stride=1, padding=1),\n",
        "            nn.ReLU(),\n",
        "            \n",
        "            nn.MaxPool2d(2, 2), # output: 128 x 8 x 8\n",
        "            \n",
        "\n",
        "            nn.Conv2d(128, 256, kernel_size=3, stride=1, padding=1),\n",
        "            nn.ReLU(),\n",
        "            nn.Conv2d(256, 256, kernel_size=3, stride=1, padding=1),\n",
        "            nn.ReLU(),\n",
        "            \n",
        "            nn.MaxPool2d(2, 2), # output: 256 x 4 x 4\n",
        "          \n",
        "\n",
        "            nn.Flatten(), \n",
        "            nn.Linear(256*4*4, 1024),\n",
        "            nn.ReLU(),\n",
        "            nn.Linear(1024, 512),\n",
        "            nn.ReLU(),\n",
        "            nn.Linear(512, 4))\n",
        "        \n",
        "    def forward(self, xb):\n",
        "        return self.network(xb)"
      ]
    },
    {
      "cell_type": "code",
      "execution_count": null,
      "metadata": {
        "colab": {
          "base_uri": "https://localhost:8080/"
        },
        "id": "EzExm2aqj44O",
        "outputId": "ce60af7a-ec91-498c-d021-499b8b9f8282"
      },
      "outputs": [
        {
          "data": {
            "text/plain": [
              "CnnModel(\n",
              "  (network): Sequential(\n",
              "    (0): Conv2d(3, 32, kernel_size=(3, 3), stride=(1, 1), padding=(1, 1))\n",
              "    (1): ReLU()\n",
              "    (2): Conv2d(32, 64, kernel_size=(3, 3), stride=(1, 1), padding=(1, 1))\n",
              "    (3): ReLU()\n",
              "    (4): MaxPool2d(kernel_size=2, stride=2, padding=0, dilation=1, ceil_mode=False)\n",
              "    (5): Conv2d(64, 128, kernel_size=(3, 3), stride=(1, 1), padding=(1, 1))\n",
              "    (6): ReLU()\n",
              "    (7): Conv2d(128, 128, kernel_size=(3, 3), stride=(1, 1), padding=(1, 1))\n",
              "    (8): ReLU()\n",
              "    (9): MaxPool2d(kernel_size=2, stride=2, padding=0, dilation=1, ceil_mode=False)\n",
              "    (10): Conv2d(128, 256, kernel_size=(3, 3), stride=(1, 1), padding=(1, 1))\n",
              "    (11): ReLU()\n",
              "    (12): Conv2d(256, 256, kernel_size=(3, 3), stride=(1, 1), padding=(1, 1))\n",
              "    (13): ReLU()\n",
              "    (14): MaxPool2d(kernel_size=2, stride=2, padding=0, dilation=1, ceil_mode=False)\n",
              "    (15): Flatten(start_dim=1, end_dim=-1)\n",
              "    (16): Linear(in_features=4096, out_features=1024, bias=True)\n",
              "    (17): ReLU()\n",
              "    (18): Linear(in_features=1024, out_features=512, bias=True)\n",
              "    (19): ReLU()\n",
              "    (20): Linear(in_features=512, out_features=4, bias=True)\n",
              "  )\n",
              ")"
            ]
          },
          "execution_count": 27,
          "metadata": {},
          "output_type": "execute_result"
        }
      ],
      "source": [
        "model = CnnModel()\n",
        "model"
      ]
    },
    {
      "cell_type": "code",
      "execution_count": null,
      "metadata": {
        "id": "H6d5mBJMkBc_"
      },
      "outputs": [],
      "source": [
        "device = get_default_device()"
      ]
    },
    {
      "cell_type": "code",
      "execution_count": null,
      "metadata": {
        "colab": {
          "base_uri": "https://localhost:8080/"
        },
        "id": "X1lH0I3SkEWW",
        "outputId": "ab85800e-d72c-452a-d093-ae8b15a7b02e"
      },
      "outputs": [
        {
          "data": {
            "text/plain": [
              "CnnModel(\n",
              "  (network): Sequential(\n",
              "    (0): Conv2d(3, 32, kernel_size=(3, 3), stride=(1, 1), padding=(1, 1))\n",
              "    (1): ReLU()\n",
              "    (2): Conv2d(32, 64, kernel_size=(3, 3), stride=(1, 1), padding=(1, 1))\n",
              "    (3): ReLU()\n",
              "    (4): MaxPool2d(kernel_size=2, stride=2, padding=0, dilation=1, ceil_mode=False)\n",
              "    (5): Conv2d(64, 128, kernel_size=(3, 3), stride=(1, 1), padding=(1, 1))\n",
              "    (6): ReLU()\n",
              "    (7): Conv2d(128, 128, kernel_size=(3, 3), stride=(1, 1), padding=(1, 1))\n",
              "    (8): ReLU()\n",
              "    (9): MaxPool2d(kernel_size=2, stride=2, padding=0, dilation=1, ceil_mode=False)\n",
              "    (10): Conv2d(128, 256, kernel_size=(3, 3), stride=(1, 1), padding=(1, 1))\n",
              "    (11): ReLU()\n",
              "    (12): Conv2d(256, 256, kernel_size=(3, 3), stride=(1, 1), padding=(1, 1))\n",
              "    (13): ReLU()\n",
              "    (14): MaxPool2d(kernel_size=2, stride=2, padding=0, dilation=1, ceil_mode=False)\n",
              "    (15): Flatten(start_dim=1, end_dim=-1)\n",
              "    (16): Linear(in_features=4096, out_features=1024, bias=True)\n",
              "    (17): ReLU()\n",
              "    (18): Linear(in_features=1024, out_features=512, bias=True)\n",
              "    (19): ReLU()\n",
              "    (20): Linear(in_features=512, out_features=4, bias=True)\n",
              "  )\n",
              ")"
            ]
          },
          "execution_count": 29,
          "metadata": {},
          "output_type": "execute_result"
        }
      ],
      "source": [
        "train_dataloader = DeviceDataLoader(train_dataloader, device)\n",
        "validation_dataloader = DeviceDataLoader(validation_dataloader, device)\n",
        "test_dataloader = DeviceDataLoader(test_dataloader, device)\n",
        "to_device(model, device)"
      ]
    },
    {
      "cell_type": "code",
      "execution_count": null,
      "metadata": {
        "id": "MORxkuUEkHRh"
      },
      "outputs": [],
      "source": [
        "@torch.no_grad()\n",
        "def evaluate(model, val_loader):\n",
        "    model.eval()\n",
        "    outputs = [model.validation_step(batch) for batch in val_loader]\n",
        "    return model.validation_epoch_end(outputs)\n",
        "\n",
        "def fit(epochs, lr, model, train_loader, val_loader, opt_func=torch.optim.SGD):\n",
        "    history = []\n",
        "    optimizer = opt_func(model.parameters(), lr)\n",
        "    for epoch in range(epochs):\n",
        "        # Training Phase \n",
        "        model.train()\n",
        "        train_losses = []\n",
        "        for batch in train_loader:\n",
        "            loss = model.training_step(batch)\n",
        "            train_losses.append(loss)\n",
        "            loss.backward()\n",
        "            optimizer.step()\n",
        "            optimizer.zero_grad()\n",
        "        # Validation phase\n",
        "        result = evaluate(model, val_loader)\n",
        "        result['train_loss'] = torch.stack(train_losses).mean().item()\n",
        "        model.epoch_end(epoch, result)\n",
        "        history.append(result)\n",
        "    return history"
      ]
    },
    {
      "cell_type": "code",
      "execution_count": null,
      "metadata": {
        "id": "4oYrMwNAkSRu"
      },
      "outputs": [],
      "source": [
        "model = to_device(CnnModel(), device)"
      ]
    },
    {
      "cell_type": "code",
      "execution_count": null,
      "metadata": {
        "id": "BN600OUckaUM"
      },
      "outputs": [],
      "source": [
        "num_epochs = 200\n",
        "opt_func = torch.optim.Adam\n",
        "lr = 0.001"
      ]
    },
    {
      "cell_type": "code",
      "execution_count": null,
      "metadata": {
        "colab": {
          "base_uri": "https://localhost:8080/"
        },
        "id": "Gpiv28OtntoK",
        "outputId": "942d020f-96c4-4343-a48e-75c086f8849b"
      },
      "outputs": [
        {
          "name": "stdout",
          "output_type": "stream",
          "text": [
            "Epoch [0], train_loss: 0.6381, val_loss: 0.6302, val_acc: 0.7848, val_prec: 0.5164, val_recall: 0.5719, val_f1: 0.5410\n",
            "Epoch [1], train_loss: 0.6710, val_loss: 0.6504, val_acc: 0.7804, val_prec: 0.5205, val_recall: 0.5513, val_f1: 0.5335\n",
            "Epoch [2], train_loss: 0.5377, val_loss: 0.5782, val_acc: 0.7966, val_prec: 0.5297, val_recall: 0.5982, val_f1: 0.5608\n",
            "Epoch [3], train_loss: 0.5458, val_loss: 0.5022, val_acc: 0.7980, val_prec: 0.5421, val_recall: 0.5921, val_f1: 0.5650\n",
            "Epoch [4], train_loss: 0.4926, val_loss: 0.5516, val_acc: 0.7951, val_prec: 0.5271, val_recall: 0.5973, val_f1: 0.5588\n",
            "Epoch [5], train_loss: 0.5271, val_loss: 0.4594, val_acc: 0.8039, val_prec: 0.5437, val_recall: 0.6009, val_f1: 0.5699\n",
            "Epoch [6], train_loss: 0.4718, val_loss: 0.4678, val_acc: 0.8039, val_prec: 0.5376, val_recall: 0.6084, val_f1: 0.5699\n",
            "Epoch [7], train_loss: 0.4447, val_loss: 0.4357, val_acc: 0.8054, val_prec: 0.5424, val_recall: 0.6049, val_f1: 0.5712\n",
            "Epoch [8], train_loss: 0.4256, val_loss: 0.4232, val_acc: 0.8083, val_prec: 0.5447, val_recall: 0.6127, val_f1: 0.5761\n",
            "Epoch [9], train_loss: 0.3910, val_loss: 0.3699, val_acc: 0.8377, val_prec: 0.7099, val_recall: 0.6667, val_f1: 0.6841\n",
            "Epoch [10], train_loss: 0.3508, val_loss: 0.3455, val_acc: 0.8593, val_prec: 0.7571, val_recall: 0.7010, val_f1: 0.7262\n",
            "Epoch [11], train_loss: 0.3285, val_loss: 0.3459, val_acc: 0.8461, val_prec: 0.7264, val_recall: 0.7087, val_f1: 0.7154\n",
            "Epoch [12], train_loss: 0.3064, val_loss: 0.2919, val_acc: 0.8887, val_prec: 0.7921, val_recall: 0.7710, val_f1: 0.7796\n",
            "Epoch [13], train_loss: 0.2800, val_loss: 0.3039, val_acc: 0.8740, val_prec: 0.7922, val_recall: 0.7325, val_f1: 0.7592\n",
            "Epoch [14], train_loss: 0.2658, val_loss: 0.3000, val_acc: 0.8838, val_prec: 0.7823, val_recall: 0.7421, val_f1: 0.7597\n",
            "Epoch [15], train_loss: 0.2401, val_loss: 0.5383, val_acc: 0.8245, val_prec: 0.6830, val_recall: 0.6787, val_f1: 0.6757\n",
            "Epoch [16], train_loss: 0.2304, val_loss: 0.2619, val_acc: 0.8941, val_prec: 0.8200, val_recall: 0.7709, val_f1: 0.7930\n",
            "Epoch [17], train_loss: 0.1859, val_loss: 0.1580, val_acc: 0.9392, val_prec: 0.8759, val_recall: 0.8773, val_f1: 0.8760\n",
            "Epoch [18], train_loss: 0.1489, val_loss: 0.1744, val_acc: 0.9402, val_prec: 0.8477, val_recall: 0.8736, val_f1: 0.8592\n",
            "Epoch [19], train_loss: 0.1531, val_loss: 0.1567, val_acc: 0.9338, val_prec: 0.8535, val_recall: 0.8695, val_f1: 0.8608\n",
            "Epoch [20], train_loss: 0.1439, val_loss: 0.1655, val_acc: 0.9211, val_prec: 0.8540, val_recall: 0.8316, val_f1: 0.8407\n",
            "Epoch [21], train_loss: 0.1417, val_loss: 0.1480, val_acc: 0.9431, val_prec: 0.8813, val_recall: 0.8913, val_f1: 0.8855\n",
            "Epoch [22], train_loss: 0.1297, val_loss: 0.1618, val_acc: 0.9392, val_prec: 0.8842, val_recall: 0.8889, val_f1: 0.8858\n",
            "Epoch [23], train_loss: 0.1298, val_loss: 0.1280, val_acc: 0.9451, val_prec: 0.9001, val_recall: 0.8882, val_f1: 0.8931\n",
            "Epoch [24], train_loss: 0.1024, val_loss: 0.1085, val_acc: 0.9623, val_prec: 0.9504, val_recall: 0.9367, val_f1: 0.9429\n",
            "Epoch [25], train_loss: 0.0977, val_loss: 0.1402, val_acc: 0.9407, val_prec: 0.9000, val_recall: 0.8719, val_f1: 0.8850\n",
            "Epoch [26], train_loss: 0.0845, val_loss: 0.0959, val_acc: 0.9613, val_prec: 0.9338, val_recall: 0.9202, val_f1: 0.9265\n",
            "Epoch [27], train_loss: 0.0911, val_loss: 0.1198, val_acc: 0.9534, val_prec: 0.8810, val_recall: 0.9001, val_f1: 0.8899\n",
            "Epoch [28], train_loss: 0.0673, val_loss: 0.0882, val_acc: 0.9706, val_prec: 0.9488, val_recall: 0.9408, val_f1: 0.9443\n",
            "Epoch [29], train_loss: 0.0702, val_loss: 0.0971, val_acc: 0.9667, val_prec: 0.9347, val_recall: 0.9189, val_f1: 0.9261\n",
            "Epoch [30], train_loss: 0.0581, val_loss: 0.0629, val_acc: 0.9824, val_prec: 0.9773, val_recall: 0.9724, val_f1: 0.9745\n",
            "Epoch [31], train_loss: 0.0731, val_loss: 0.1252, val_acc: 0.9603, val_prec: 0.9264, val_recall: 0.9258, val_f1: 0.9259\n",
            "Epoch [32], train_loss: 0.0628, val_loss: 0.0979, val_acc: 0.9662, val_prec: 0.9362, val_recall: 0.9550, val_f1: 0.9451\n",
            "Epoch [33], train_loss: 0.0680, val_loss: 0.0735, val_acc: 0.9696, val_prec: 0.9531, val_recall: 0.9480, val_f1: 0.9500\n",
            "Epoch [34], train_loss: 0.0567, val_loss: 0.0742, val_acc: 0.9755, val_prec: 0.9580, val_recall: 0.9650, val_f1: 0.9612\n",
            "Epoch [35], train_loss: 0.0416, val_loss: 0.0603, val_acc: 0.9794, val_prec: 0.9848, val_recall: 0.9747, val_f1: 0.9793\n",
            "Epoch [36], train_loss: 0.0528, val_loss: 0.0562, val_acc: 0.9824, val_prec: 0.9541, val_recall: 0.9585, val_f1: 0.9561\n",
            "Epoch [37], train_loss: 0.0587, val_loss: 0.0656, val_acc: 0.9735, val_prec: 0.9511, val_recall: 0.9605, val_f1: 0.9554\n",
            "Epoch [38], train_loss: 0.0453, val_loss: 0.0848, val_acc: 0.9676, val_prec: 0.9290, val_recall: 0.9364, val_f1: 0.9321\n",
            "Epoch [39], train_loss: 0.0842, val_loss: 0.0810, val_acc: 0.9765, val_prec: 0.9625, val_recall: 0.9479, val_f1: 0.9547\n",
            "Epoch [40], train_loss: 0.0395, val_loss: 0.0617, val_acc: 0.9868, val_prec: 0.9689, val_recall: 0.9633, val_f1: 0.9660\n",
            "Epoch [41], train_loss: 0.0561, val_loss: 0.0545, val_acc: 0.9809, val_prec: 0.9619, val_recall: 0.9795, val_f1: 0.9701\n",
            "Epoch [42], train_loss: 0.0496, val_loss: 0.0597, val_acc: 0.9824, val_prec: 0.9597, val_recall: 0.9641, val_f1: 0.9615\n",
            "Epoch [43], train_loss: 0.0460, val_loss: 0.0637, val_acc: 0.9725, val_prec: 0.9322, val_recall: 0.9536, val_f1: 0.9423\n",
            "Epoch [44], train_loss: 0.0448, val_loss: 0.0603, val_acc: 0.9794, val_prec: 0.9491, val_recall: 0.9390, val_f1: 0.9436\n",
            "Epoch [45], train_loss: 0.0519, val_loss: 0.0461, val_acc: 0.9843, val_prec: 0.9678, val_recall: 0.9690, val_f1: 0.9680\n",
            "Epoch [46], train_loss: 0.0346, val_loss: 0.0592, val_acc: 0.9784, val_prec: 0.9734, val_recall: 0.9661, val_f1: 0.9694\n",
            "Epoch [47], train_loss: 0.0692, val_loss: 0.0466, val_acc: 0.9897, val_prec: 0.9706, val_recall: 0.9646, val_f1: 0.9675\n",
            "Epoch [48], train_loss: 0.0295, val_loss: 0.0640, val_acc: 0.9809, val_prec: 0.9540, val_recall: 0.9492, val_f1: 0.9513\n",
            "Epoch [49], train_loss: 0.0361, val_loss: 0.0338, val_acc: 0.9824, val_prec: 0.9586, val_recall: 0.9661, val_f1: 0.9620\n",
            "Epoch [50], train_loss: 0.0368, val_loss: 0.0624, val_acc: 0.9779, val_prec: 0.9666, val_recall: 0.9474, val_f1: 0.9566\n",
            "Epoch [51], train_loss: 0.0292, val_loss: 0.0344, val_acc: 0.9882, val_prec: 0.9717, val_recall: 0.9744, val_f1: 0.9728\n",
            "Epoch [52], train_loss: 0.0408, val_loss: 0.0528, val_acc: 0.9824, val_prec: 0.9641, val_recall: 0.9760, val_f1: 0.9694\n",
            "Epoch [53], train_loss: 0.0301, val_loss: 0.0371, val_acc: 0.9897, val_prec: 0.9791, val_recall: 0.9812, val_f1: 0.9799\n",
            "Epoch [54], train_loss: 0.0258, val_loss: 0.0425, val_acc: 0.9843, val_prec: 0.9601, val_recall: 0.9755, val_f1: 0.9673\n",
            "Epoch [55], train_loss: 0.0352, val_loss: 0.0469, val_acc: 0.9824, val_prec: 0.9466, val_recall: 0.9509, val_f1: 0.9485\n",
            "Epoch [56], train_loss: 0.0258, val_loss: 0.0379, val_acc: 0.9912, val_prec: 0.9871, val_recall: 0.9843, val_f1: 0.9856\n",
            "Epoch [57], train_loss: 0.0242, val_loss: 0.0629, val_acc: 0.9799, val_prec: 0.9804, val_recall: 0.9677, val_f1: 0.9737\n",
            "Epoch [58], train_loss: 0.0356, val_loss: 0.0430, val_acc: 0.9853, val_prec: 0.9693, val_recall: 0.9743, val_f1: 0.9714\n",
            "Epoch [59], train_loss: 0.0199, val_loss: 0.0584, val_acc: 0.9868, val_prec: 0.9697, val_recall: 0.9608, val_f1: 0.9649\n",
            "Epoch [60], train_loss: 0.0290, val_loss: 0.0387, val_acc: 0.9868, val_prec: 0.9449, val_recall: 0.9532, val_f1: 0.9487\n",
            "Epoch [61], train_loss: 0.0200, val_loss: 0.0415, val_acc: 0.9873, val_prec: 0.9820, val_recall: 0.9816, val_f1: 0.9817\n",
            "Epoch [62], train_loss: 0.0278, val_loss: 0.0364, val_acc: 0.9838, val_prec: 0.9699, val_recall: 0.9844, val_f1: 0.9767\n",
            "Epoch [63], train_loss: 0.0314, val_loss: 0.0375, val_acc: 0.9858, val_prec: 0.9721, val_recall: 0.9609, val_f1: 0.9662\n",
            "Epoch [64], train_loss: 0.0197, val_loss: 0.0382, val_acc: 0.9882, val_prec: 0.9742, val_recall: 0.9740, val_f1: 0.9739\n",
            "Epoch [65], train_loss: 0.0383, val_loss: 0.0236, val_acc: 0.9912, val_prec: 0.9712, val_recall: 0.9680, val_f1: 0.9695\n",
            "Epoch [66], train_loss: 0.0359, val_loss: 0.0392, val_acc: 0.9824, val_prec: 0.9602, val_recall: 0.9579, val_f1: 0.9588\n",
            "Epoch [67], train_loss: 0.0207, val_loss: 0.0242, val_acc: 0.9956, val_prec: 0.9798, val_recall: 0.9796, val_f1: 0.9796\n",
            "Epoch [68], train_loss: 0.0345, val_loss: 0.0668, val_acc: 0.9814, val_prec: 0.9668, val_recall: 0.9605, val_f1: 0.9634\n",
            "Epoch [69], train_loss: 0.0246, val_loss: 0.0511, val_acc: 0.9868, val_prec: 0.9872, val_recall: 0.9726, val_f1: 0.9796\n",
            "Epoch [70], train_loss: 0.0195, val_loss: 0.0381, val_acc: 0.9828, val_prec: 0.9774, val_recall: 0.9716, val_f1: 0.9740\n",
            "Epoch [71], train_loss: 0.0237, val_loss: 0.0541, val_acc: 0.9824, val_prec: 0.9477, val_recall: 0.9512, val_f1: 0.9492\n",
            "Epoch [72], train_loss: 0.0122, val_loss: 0.0253, val_acc: 0.9873, val_prec: 0.9700, val_recall: 0.9675, val_f1: 0.9685\n",
            "Epoch [73], train_loss: 0.0185, val_loss: 0.0514, val_acc: 0.9799, val_prec: 0.9785, val_recall: 0.9810, val_f1: 0.9793\n",
            "Epoch [74], train_loss: 0.0225, val_loss: 0.0425, val_acc: 0.9882, val_prec: 0.9666, val_recall: 0.9680, val_f1: 0.9671\n",
            "Epoch [75], train_loss: 0.0264, val_loss: 0.0150, val_acc: 0.9956, val_prec: 0.9853, val_recall: 0.9891, val_f1: 0.9871\n",
            "Epoch [76], train_loss: 0.0255, val_loss: 0.0384, val_acc: 0.9897, val_prec: 0.9772, val_recall: 0.9850, val_f1: 0.9807\n",
            "Epoch [77], train_loss: 0.0188, val_loss: 0.0353, val_acc: 0.9887, val_prec: 0.9919, val_recall: 0.9879, val_f1: 0.9898\n",
            "Epoch [78], train_loss: 0.0274, val_loss: 0.0208, val_acc: 0.9941, val_prec: 0.9891, val_recall: 0.9885, val_f1: 0.9888\n",
            "Epoch [79], train_loss: 0.0185, val_loss: 0.0334, val_acc: 0.9912, val_prec: 0.9684, val_recall: 0.9686, val_f1: 0.9684\n",
            "Epoch [80], train_loss: 0.0200, val_loss: 0.0634, val_acc: 0.9799, val_prec: 0.9650, val_recall: 0.9463, val_f1: 0.9553\n",
            "Epoch [81], train_loss: 0.0350, val_loss: 0.0434, val_acc: 0.9873, val_prec: 0.9703, val_recall: 0.9624, val_f1: 0.9662\n",
            "Epoch [82], train_loss: 0.0172, val_loss: 0.0410, val_acc: 0.9912, val_prec: 0.9722, val_recall: 0.9797, val_f1: 0.9758\n",
            "Epoch [83], train_loss: 0.0151, val_loss: 0.0274, val_acc: 0.9912, val_prec: 0.9898, val_recall: 0.9786, val_f1: 0.9839\n",
            "Epoch [84], train_loss: 0.0169, val_loss: 0.0431, val_acc: 0.9824, val_prec: 0.9483, val_recall: 0.9600, val_f1: 0.9537\n",
            "Epoch [85], train_loss: 0.0144, val_loss: 0.0384, val_acc: 0.9882, val_prec: 0.9772, val_recall: 0.9690, val_f1: 0.9730\n",
            "Epoch [86], train_loss: 0.0185, val_loss: 0.0687, val_acc: 0.9765, val_prec: 0.9419, val_recall: 0.9593, val_f1: 0.9501\n",
            "Epoch [87], train_loss: 0.0309, val_loss: 0.0251, val_acc: 0.9917, val_prec: 0.9913, val_recall: 0.9931, val_f1: 0.9921\n",
            "Epoch [88], train_loss: 0.0245, val_loss: 0.0234, val_acc: 0.9956, val_prec: 0.9902, val_recall: 0.9889, val_f1: 0.9895\n",
            "Epoch [89], train_loss: 0.0094, val_loss: 0.0107, val_acc: 0.9941, val_prec: 0.9931, val_recall: 0.9956, val_f1: 0.9942\n",
            "Epoch [90], train_loss: 0.0100, val_loss: 0.0138, val_acc: 0.9941, val_prec: 0.9920, val_recall: 0.9967, val_f1: 0.9942\n",
            "Epoch [91], train_loss: 0.0136, val_loss: 0.0476, val_acc: 0.9809, val_prec: 0.9572, val_recall: 0.9705, val_f1: 0.9634\n",
            "Epoch [92], train_loss: 0.0250, val_loss: 0.0417, val_acc: 0.9868, val_prec: 0.9714, val_recall: 0.9700, val_f1: 0.9704\n",
            "Epoch [93], train_loss: 0.0163, val_loss: 0.0263, val_acc: 0.9912, val_prec: 0.9828, val_recall: 0.9850, val_f1: 0.9839\n",
            "Epoch [94], train_loss: 0.0151, val_loss: 0.0192, val_acc: 0.9926, val_prec: 0.9758, val_recall: 0.9714, val_f1: 0.9735\n",
            "Epoch [95], train_loss: 0.0106, val_loss: 0.0232, val_acc: 0.9941, val_prec: 0.9827, val_recall: 0.9902, val_f1: 0.9862\n",
            "Epoch [96], train_loss: 0.0210, val_loss: 0.0193, val_acc: 0.9941, val_prec: 0.9861, val_recall: 0.9887, val_f1: 0.9873\n",
            "Epoch [97], train_loss: 0.0086, val_loss: 0.0089, val_acc: 0.9971, val_prec: 0.9981, val_recall: 0.9955, val_f1: 0.9967\n",
            "Epoch [98], train_loss: 0.0060, val_loss: 0.0270, val_acc: 0.9897, val_prec: 0.9747, val_recall: 0.9778, val_f1: 0.9760\n",
            "Epoch [99], train_loss: 0.0171, val_loss: 0.0434, val_acc: 0.9912, val_prec: 0.9657, val_recall: 0.9642, val_f1: 0.9649\n",
            "Epoch [100], train_loss: 0.0298, val_loss: 0.0084, val_acc: 0.9985, val_prec: 0.9951, val_recall: 0.9993, val_f1: 0.9971\n",
            "Epoch [101], train_loss: 0.0171, val_loss: 0.0219, val_acc: 0.9912, val_prec: 0.9666, val_recall: 0.9802, val_f1: 0.9730\n",
            "Epoch [102], train_loss: 0.0078, val_loss: 0.0406, val_acc: 0.9897, val_prec: 0.9696, val_recall: 0.9650, val_f1: 0.9670\n",
            "Epoch [103], train_loss: 0.0213, val_loss: 0.0292, val_acc: 0.9926, val_prec: 0.9701, val_recall: 0.9713, val_f1: 0.9706\n",
            "Epoch [104], train_loss: 0.0113, val_loss: 0.0451, val_acc: 0.9882, val_prec: 0.9715, val_recall: 0.9666, val_f1: 0.9689\n",
            "Epoch [105], train_loss: 0.0203, val_loss: 0.0132, val_acc: 0.9956, val_prec: 0.9911, val_recall: 0.9863, val_f1: 0.9886\n",
            "Epoch [106], train_loss: 0.0518, val_loss: 0.0390, val_acc: 0.9873, val_prec: 0.9747, val_recall: 0.9733, val_f1: 0.9738\n",
            "Epoch [107], train_loss: 0.0283, val_loss: 0.0118, val_acc: 0.9971, val_prec: 0.9892, val_recall: 0.9872, val_f1: 0.9882\n",
            "Epoch [108], train_loss: 0.0120, val_loss: 0.0294, val_acc: 0.9956, val_prec: 0.9908, val_recall: 0.9871, val_f1: 0.9889\n",
            "Epoch [109], train_loss: 0.0149, val_loss: 0.0324, val_acc: 0.9873, val_prec: 0.9742, val_recall: 0.9633, val_f1: 0.9685\n",
            "Epoch [110], train_loss: 0.0112, val_loss: 0.0154, val_acc: 0.9941, val_prec: 0.9845, val_recall: 0.9892, val_f1: 0.9867\n",
            "Epoch [111], train_loss: 0.0168, val_loss: 0.0612, val_acc: 0.9838, val_prec: 0.9633, val_recall: 0.9760, val_f1: 0.9691\n",
            "Epoch [112], train_loss: 0.0149, val_loss: 0.0273, val_acc: 0.9897, val_prec: 0.9908, val_recall: 0.9869, val_f1: 0.9886\n",
            "Epoch [113], train_loss: 0.0084, val_loss: 0.0103, val_acc: 0.9971, val_prec: 0.9987, val_recall: 0.9947, val_f1: 0.9966\n",
            "Epoch [114], train_loss: 0.0053, val_loss: 0.0288, val_acc: 0.9926, val_prec: 0.9928, val_recall: 0.9947, val_f1: 0.9937\n",
            "Epoch [115], train_loss: 0.0129, val_loss: 0.0233, val_acc: 0.9941, val_prec: 0.9855, val_recall: 0.9828, val_f1: 0.9841\n",
            "Epoch [116], train_loss: 0.0051, val_loss: 0.0107, val_acc: 0.9956, val_prec: 0.9970, val_recall: 0.9948, val_f1: 0.9959\n",
            "Epoch [117], train_loss: 0.0140, val_loss: 0.0292, val_acc: 0.9912, val_prec: 0.9843, val_recall: 0.9813, val_f1: 0.9827\n",
            "Epoch [118], train_loss: 0.0117, val_loss: 0.0159, val_acc: 0.9941, val_prec: 0.9949, val_recall: 0.9935, val_f1: 0.9941\n",
            "Epoch [119], train_loss: 0.0022, val_loss: 0.0150, val_acc: 0.9971, val_prec: 0.9975, val_recall: 0.9975, val_f1: 0.9975\n",
            "Epoch [120], train_loss: 0.0101, val_loss: 0.0089, val_acc: 0.9941, val_prec: 0.9831, val_recall: 0.9885, val_f1: 0.9857\n",
            "Epoch [121], train_loss: 0.0096, val_loss: 0.0291, val_acc: 0.9902, val_prec: 0.9797, val_recall: 0.9802, val_f1: 0.9800\n",
            "Epoch [122], train_loss: 0.0263, val_loss: 0.0838, val_acc: 0.9853, val_prec: 0.9710, val_recall: 0.9686, val_f1: 0.9696\n",
            "Epoch [123], train_loss: 0.0155, val_loss: 0.0224, val_acc: 0.9971, val_prec: 0.9822, val_recall: 0.9814, val_f1: 0.9818\n",
            "Epoch [124], train_loss: 0.0130, val_loss: 0.0128, val_acc: 0.9956, val_prec: 0.9902, val_recall: 0.9903, val_f1: 0.9903\n",
            "Epoch [125], train_loss: 0.0148, val_loss: 0.0107, val_acc: 0.9956, val_prec: 0.9904, val_recall: 0.9898, val_f1: 0.9901\n",
            "Epoch [126], train_loss: 0.0240, val_loss: 0.0181, val_acc: 0.9971, val_prec: 0.9957, val_recall: 0.9962, val_f1: 0.9958\n",
            "Epoch [127], train_loss: 0.0069, val_loss: 0.0170, val_acc: 0.9941, val_prec: 0.9824, val_recall: 0.9799, val_f1: 0.9810\n",
            "Epoch [128], train_loss: 0.0052, val_loss: 0.0113, val_acc: 0.9956, val_prec: 0.9809, val_recall: 0.9892, val_f1: 0.9848\n",
            "Epoch [129], train_loss: 0.0046, val_loss: 0.0356, val_acc: 0.9873, val_prec: 0.9756, val_recall: 0.9852, val_f1: 0.9802\n",
            "Epoch [130], train_loss: 0.0113, val_loss: 0.0328, val_acc: 0.9912, val_prec: 0.9862, val_recall: 0.9861, val_f1: 0.9861\n",
            "Epoch [131], train_loss: 0.0104, val_loss: 0.0180, val_acc: 0.9941, val_prec: 0.9874, val_recall: 0.9883, val_f1: 0.9878\n",
            "Epoch [132], train_loss: 0.0644, val_loss: 0.1654, val_acc: 0.9559, val_prec: 0.8984, val_recall: 0.9023, val_f1: 0.8990\n",
            "Epoch [133], train_loss: 0.0721, val_loss: 0.0166, val_acc: 0.9941, val_prec: 0.9773, val_recall: 0.9727, val_f1: 0.9749\n",
            "Epoch [134], train_loss: 0.0158, val_loss: 0.0423, val_acc: 0.9926, val_prec: 0.9801, val_recall: 0.9750, val_f1: 0.9775\n",
            "Epoch [135], train_loss: 0.0150, val_loss: 0.0331, val_acc: 0.9897, val_prec: 0.9852, val_recall: 0.9761, val_f1: 0.9805\n",
            "Epoch [136], train_loss: 0.0088, val_loss: 0.0141, val_acc: 0.9956, val_prec: 0.9816, val_recall: 0.9781, val_f1: 0.9797\n",
            "Epoch [137], train_loss: 0.0077, val_loss: 0.0187, val_acc: 0.9941, val_prec: 0.9810, val_recall: 0.9801, val_f1: 0.9805\n",
            "Epoch [138], train_loss: 0.0034, val_loss: 0.0122, val_acc: 0.9985, val_prec: 0.9926, val_recall: 0.9922, val_f1: 0.9924\n",
            "Epoch [139], train_loss: 0.0030, val_loss: 0.0304, val_acc: 0.9912, val_prec: 0.9794, val_recall: 0.9814, val_f1: 0.9804\n",
            "Epoch [140], train_loss: 0.0177, val_loss: 0.0331, val_acc: 0.9926, val_prec: 0.9764, val_recall: 0.9705, val_f1: 0.9734\n",
            "Epoch [141], train_loss: 0.0156, val_loss: 0.0604, val_acc: 0.9858, val_prec: 0.9668, val_recall: 0.9706, val_f1: 0.9685\n",
            "Epoch [142], train_loss: 0.0030, val_loss: 0.0104, val_acc: 0.9971, val_prec: 0.9937, val_recall: 0.9985, val_f1: 0.9959\n",
            "Epoch [143], train_loss: 0.0067, val_loss: 0.0285, val_acc: 0.9926, val_prec: 0.9711, val_recall: 0.9702, val_f1: 0.9706\n",
            "Epoch [144], train_loss: 0.0091, val_loss: 0.0185, val_acc: 0.9926, val_prec: 0.9806, val_recall: 0.9795, val_f1: 0.9799\n",
            "Epoch [145], train_loss: 0.0261, val_loss: 0.0048, val_acc: 1.0000, val_prec: 1.0000, val_recall: 1.0000, val_f1: 1.0000\n",
            "Epoch [146], train_loss: 0.0029, val_loss: 0.0083, val_acc: 0.9971, val_prec: 0.9975, val_recall: 0.9975, val_f1: 0.9975\n",
            "Epoch [147], train_loss: 0.0011, val_loss: 0.0044, val_acc: 0.9971, val_prec: 0.9904, val_recall: 0.9910, val_f1: 0.9907\n",
            "Epoch [148], train_loss: 0.0104, val_loss: 0.0219, val_acc: 0.9956, val_prec: 0.9853, val_recall: 0.9870, val_f1: 0.9860\n",
            "Epoch [149], train_loss: 0.0096, val_loss: 0.0145, val_acc: 0.9956, val_prec: 0.9893, val_recall: 0.9906, val_f1: 0.9899\n",
            "Epoch [150], train_loss: 0.0072, val_loss: 0.0323, val_acc: 0.9897, val_prec: 0.9819, val_recall: 0.9935, val_f1: 0.9875\n",
            "Epoch [151], train_loss: 0.0245, val_loss: 0.0189, val_acc: 0.9971, val_prec: 0.9903, val_recall: 0.9890, val_f1: 0.9895\n",
            "Epoch [152], train_loss: 0.0166, val_loss: 0.0270, val_acc: 0.9926, val_prec: 0.9736, val_recall: 0.9801, val_f1: 0.9767\n",
            "Epoch [153], train_loss: 0.0077, val_loss: 0.0026, val_acc: 1.0000, val_prec: 1.0000, val_recall: 1.0000, val_f1: 1.0000\n",
            "Epoch [154], train_loss: 0.0031, val_loss: 0.0166, val_acc: 0.9941, val_prec: 0.9889, val_recall: 0.9860, val_f1: 0.9873\n",
            "Epoch [155], train_loss: 0.0056, val_loss: 0.0056, val_acc: 0.9985, val_prec: 0.9993, val_recall: 0.9967, val_f1: 0.9980\n",
            "Epoch [156], train_loss: 0.0154, val_loss: 0.0149, val_acc: 0.9941, val_prec: 0.9799, val_recall: 0.9910, val_f1: 0.9851\n",
            "Epoch [157], train_loss: 0.0061, val_loss: 0.0338, val_acc: 0.9902, val_prec: 0.9779, val_recall: 0.9763, val_f1: 0.9769\n",
            "Epoch [158], train_loss: 0.0080, val_loss: 0.0059, val_acc: 0.9985, val_prec: 0.9926, val_recall: 0.9922, val_f1: 0.9924\n",
            "Epoch [159], train_loss: 0.0733, val_loss: 0.0378, val_acc: 0.9912, val_prec: 0.9900, val_recall: 0.9920, val_f1: 0.9908\n",
            "Epoch [160], train_loss: 0.0154, val_loss: 0.0288, val_acc: 0.9882, val_prec: 0.9769, val_recall: 0.9675, val_f1: 0.9719\n",
            "Epoch [161], train_loss: 0.0159, val_loss: 0.0324, val_acc: 0.9868, val_prec: 0.9839, val_recall: 0.9925, val_f1: 0.9880\n",
            "Epoch [162], train_loss: 0.0104, val_loss: 0.0060, val_acc: 0.9985, val_prec: 0.9990, val_recall: 0.9975, val_f1: 0.9983\n",
            "Epoch [163], train_loss: 0.0141, val_loss: 0.0392, val_acc: 0.9926, val_prec: 0.9891, val_recall: 0.9848, val_f1: 0.9869\n",
            "Epoch [164], train_loss: 0.0339, val_loss: 0.0300, val_acc: 0.9882, val_prec: 0.9723, val_recall: 0.9731, val_f1: 0.9725\n",
            "Epoch [165], train_loss: 0.0085, val_loss: 0.0346, val_acc: 0.9912, val_prec: 0.9800, val_recall: 0.9788, val_f1: 0.9793\n",
            "Epoch [166], train_loss: 0.0138, val_loss: 0.0111, val_acc: 0.9956, val_prec: 0.9917, val_recall: 0.9966, val_f1: 0.9939\n",
            "Epoch [167], train_loss: 0.0058, val_loss: 0.0083, val_acc: 0.9941, val_prec: 0.9970, val_recall: 0.9916, val_f1: 0.9943\n",
            "Epoch [168], train_loss: 0.0085, val_loss: 0.0141, val_acc: 0.9971, val_prec: 0.9890, val_recall: 0.9903, val_f1: 0.9895\n",
            "Epoch [169], train_loss: 0.0331, val_loss: 0.0236, val_acc: 0.9941, val_prec: 0.9850, val_recall: 0.9854, val_f1: 0.9851\n",
            "Epoch [170], train_loss: 0.0146, val_loss: 0.0228, val_acc: 0.9926, val_prec: 0.9784, val_recall: 0.9804, val_f1: 0.9794\n",
            "Epoch [171], train_loss: 0.0098, val_loss: 0.0094, val_acc: 0.9971, val_prec: 0.9912, val_recall: 0.9910, val_f1: 0.9911\n",
            "Epoch [172], train_loss: 0.0023, val_loss: 0.0326, val_acc: 0.9956, val_prec: 0.9977, val_recall: 0.9926, val_f1: 0.9950\n",
            "Epoch [173], train_loss: 0.0087, val_loss: 0.0117, val_acc: 0.9956, val_prec: 0.9924, val_recall: 0.9976, val_f1: 0.9948\n",
            "Epoch [174], train_loss: 0.0068, val_loss: 0.0251, val_acc: 0.9941, val_prec: 0.9861, val_recall: 0.9905, val_f1: 0.9882\n",
            "Epoch [175], train_loss: 0.0047, val_loss: 0.0005, val_acc: 1.0000, val_prec: 1.0000, val_recall: 1.0000, val_f1: 1.0000\n",
            "Epoch [176], train_loss: 0.0047, val_loss: 0.0064, val_acc: 0.9985, val_prec: 0.9992, val_recall: 0.9984, val_f1: 0.9988\n",
            "Epoch [177], train_loss: 0.0003, val_loss: 0.0057, val_acc: 0.9985, val_prec: 0.9994, val_recall: 0.9951, val_f1: 0.9971\n",
            "Epoch [178], train_loss: 0.0265, val_loss: 0.0109, val_acc: 0.9985, val_prec: 0.9926, val_recall: 0.9922, val_f1: 0.9924\n",
            "Epoch [179], train_loss: 0.0035, val_loss: 0.0305, val_acc: 0.9912, val_prec: 0.9913, val_recall: 0.9886, val_f1: 0.9896\n",
            "Epoch [180], train_loss: 0.0103, val_loss: 0.0597, val_acc: 0.9882, val_prec: 0.9677, val_recall: 0.9762, val_f1: 0.9716\n",
            "Epoch [181], train_loss: 0.0128, val_loss: 0.0570, val_acc: 0.9882, val_prec: 0.9836, val_recall: 0.9908, val_f1: 0.9869\n",
            "Epoch [182], train_loss: 0.0152, val_loss: 0.0196, val_acc: 0.9941, val_prec: 0.9853, val_recall: 0.9907, val_f1: 0.9878\n",
            "Epoch [183], train_loss: 0.0345, val_loss: 0.0204, val_acc: 0.9926, val_prec: 0.9866, val_recall: 0.9875, val_f1: 0.9870\n",
            "Epoch [184], train_loss: 0.0082, val_loss: 0.0118, val_acc: 0.9971, val_prec: 0.9982, val_recall: 0.9951, val_f1: 0.9966\n",
            "Epoch [185], train_loss: 0.0149, val_loss: 0.0352, val_acc: 0.9941, val_prec: 0.9770, val_recall: 0.9719, val_f1: 0.9744\n",
            "Epoch [186], train_loss: 0.0256, val_loss: 0.0155, val_acc: 0.9956, val_prec: 0.9892, val_recall: 0.9882, val_f1: 0.9886\n",
            "Epoch [187], train_loss: 0.0054, val_loss: 0.0154, val_acc: 0.9956, val_prec: 0.9926, val_recall: 0.9969, val_f1: 0.9945\n",
            "Epoch [188], train_loss: 0.0024, val_loss: 0.0163, val_acc: 0.9926, val_prec: 0.9792, val_recall: 0.9794, val_f1: 0.9792\n",
            "Epoch [189], train_loss: 0.0025, val_loss: 0.0561, val_acc: 0.9926, val_prec: 0.9814, val_recall: 0.9893, val_f1: 0.9851\n",
            "Epoch [190], train_loss: 0.0028, val_loss: 0.0358, val_acc: 0.9897, val_prec: 0.9790, val_recall: 0.9873, val_f1: 0.9829\n",
            "Epoch [191], train_loss: 0.0143, val_loss: 0.0202, val_acc: 0.9917, val_prec: 0.9891, val_recall: 0.9820, val_f1: 0.9854\n",
            "Epoch [192], train_loss: 0.0025, val_loss: 0.0145, val_acc: 0.9985, val_prec: 0.9882, val_recall: 0.9902, val_f1: 0.9892\n",
            "Epoch [193], train_loss: 0.0058, val_loss: 0.0068, val_acc: 0.9971, val_prec: 0.9912, val_recall: 0.9899, val_f1: 0.9905\n",
            "Epoch [194], train_loss: 0.0034, val_loss: 0.0013, val_acc: 1.0000, val_prec: 1.0000, val_recall: 1.0000, val_f1: 1.0000\n",
            "Epoch [195], train_loss: 0.0041, val_loss: 0.0211, val_acc: 0.9956, val_prec: 0.9914, val_recall: 0.9964, val_f1: 0.9938\n",
            "Epoch [196], train_loss: 0.0093, val_loss: 0.0318, val_acc: 0.9912, val_prec: 0.9799, val_recall: 0.9795, val_f1: 0.9797\n",
            "Epoch [197], train_loss: 0.0194, val_loss: 0.0408, val_acc: 0.9853, val_prec: 0.9818, val_recall: 0.9815, val_f1: 0.9816\n",
            "Epoch [198], train_loss: 0.0102, val_loss: 0.0167, val_acc: 0.9971, val_prec: 0.9984, val_recall: 0.9962, val_f1: 0.9973\n",
            "Epoch [199], train_loss: 0.0033, val_loss: 0.0097, val_acc: 0.9985, val_prec: 0.9896, val_recall: 0.9902, val_f1: 0.9899\n"
          ]
        }
      ],
      "source": [
        "history_cnn = fit(num_epochs, lr, model, train_dataloader, validation_dataloader, opt_func)"
      ]
    },
    {
      "cell_type": "code",
      "execution_count": null,
      "metadata": {
        "id": "oR1XWw6HnxeQ"
      },
      "outputs": [],
      "source": [
        "from matplotlib import pyplot as plt\n",
        "def plot_accuracies(history, metric, ylabel, title):\n",
        "    accuracies = [x[metric] for x in history]\n",
        "    plt.plot(accuracies)\n",
        "    plt.xlabel('epoch')\n",
        "    plt.ylabel(ylabel)\n",
        "    plt.title(title);"
      ]
    },
    {
      "cell_type": "code",
      "execution_count": null,
      "metadata": {
        "colab": {
          "base_uri": "https://localhost:8080/",
          "height": 295
        },
        "id": "Njln6hAUn-oM",
        "outputId": "e33fe7cc-d6e2-41bb-cbe3-f2ce684ecb6c"
      },
      "outputs": [
        {
          "data": {
            "image/png": "[encoded data removed]",
            "text/plain": [
              "<Figure size 432x288 with 1 Axes>"
            ]
          },
          "metadata": {
            "needs_background": "light"
          },
          "output_type": "display_data"
        }
      ],
      "source": [
        "plot_accuracies(history_cnn, 'val_acc', 'Validation Accuracy', 'Validation Accuracy vs. No. of epochs (CNN Model)')"
      ]
    },
    {
      "cell_type": "code",
      "execution_count": null,
      "metadata": {
        "colab": {
          "base_uri": "https://localhost:8080/",
          "height": 295
        },
        "id": "7arBx9PLfxCD",
        "outputId": "b999ac3b-c47d-40dc-eeaa-29669ab43e17"
      },
      "outputs": [
        {
          "data": {
            "image/png": "[encoded data removed]",
            "text/plain": [
              "<Figure size 432x288 with 1 Axes>"
            ]
          },
          "metadata": {
            "needs_background": "light"
          },
          "output_type": "display_data"
        }
      ],
      "source": [
        "plot_accuracies(history_cnn, 'val_f1', 'Validation F1 Score', 'Validation F1 Score vs. No. of epochs (CNN Model)')"
      ]
    },
    {
      "cell_type": "code",
      "execution_count": null,
      "metadata": {
        "id": "WcNGdfTPqBtV"
      },
      "outputs": [],
      "source": [
        "def plot_losses(history):\n",
        "    train_losses = [x.get('train_loss') for x in history]\n",
        "    val_losses = [x['val_loss'] for x in history]\n",
        "    plt.plot(train_losses, '-b')\n",
        "    plt.plot(val_losses, '-r')\n",
        "    plt.xlabel('epoch')\n",
        "    plt.ylabel('loss')\n",
        "    plt.legend(['Training', 'Validation'])\n",
        "    plt.title('Loss vs. No. of epochs (CNN Model)');"
      ]
    },
    {
      "cell_type": "code",
      "execution_count": null,
      "metadata": {
        "colab": {
          "base_uri": "https://localhost:8080/",
          "height": 295
        },
        "id": "VJVDxPWVqEpq",
        "outputId": "21f3bafa-f938-4327-f681-38f33a250980"
      },
      "outputs": [
        {
          "data": {
            "image/png": "[encoded data removed]",
            "text/plain": [
              "<Figure size 432x288 with 1 Axes>"
            ]
          },
          "metadata": {
            "needs_background": "light"
          },
          "output_type": "display_data"
        }
      ],
      "source": [
        "plot_losses(history_cnn)"
      ]
    },
    {
      "cell_type": "code",
      "execution_count": null,
      "metadata": {
        "id": "KA0xwZVWf9z2"
      },
      "outputs": [],
      "source": [
        "test_history_cnn = [evaluate(model, validation_dataloader)]"
      ]
    },
    {
      "cell_type": "code",
      "execution_count": null,
      "metadata": {
        "colab": {
          "base_uri": "https://localhost:8080/"
        },
        "id": "fXfXplh2uiDX",
        "outputId": "4699fa14-e559-4efb-d5bb-f9fc29f2c9c6"
      },
      "outputs": [
        {
          "data": {
            "text/plain": [
              "[{'val_acc': 0.9970588684082031,\n",
              "  'val_f1': 0.979049026966095,\n",
              "  'val_loss': 0.005086842924356461,\n",
              "  'val_precision': 0.9778186678886414,\n",
              "  'val_recall': 0.9803922176361084}]"
            ]
          },
          "execution_count": 43,
          "metadata": {},
          "output_type": "execute_result"
        }
      ],
      "source": [
        "test_history_cnn"
      ]
    }
  ],
  "metadata": {
    "accelerator": "GPU",
    "colab": {
      "collapsed_sections": [],
      "name": "Assignment_1_170204051.ipynb",
      "provenance": [],
      "include_colab_link": true
    },
    "kernelspec": {
      "display_name": "Python 3",
      "name": "python3"
    }
  },
  "nbformat": 4,
  "nbformat_minor": 0
}